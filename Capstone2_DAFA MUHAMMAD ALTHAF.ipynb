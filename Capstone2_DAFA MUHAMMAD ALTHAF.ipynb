{
 "cells": [
  {
   "cell_type": "markdown",
   "metadata": {},
   "source": [
    "# **CAPSTONE 2 - NYC TLC TRIP RECORD ANALYST DATA** ###\n",
    "\n",
    "**BACKGROUND**\n",
    "\n",
    "Taksi merupakan moda transportasi pilihat di tengah hiruk pikuk Kota New York, kami hadir sebagai solusi transportasi yang efisien dan terpercaya. Dengan fokus pada kecepatan dan kepuasan pelanggan, kami menyediakan layanan taksi yang siap mengantar Anda ke tujuan dengan cepat dan aman. Kami memahami pentingnya waktu bagi Anda, oleh karena itu kami terus meningkatkan sistem operasional kami agar Anda dapat dengan mudah mendapatkan taksi kapan pun dan di mana pun Anda berada.\n",
    "\n",
    "**PROBLEM STATEMENT**\n",
    "\n",
    "Perusahaan taksi di New York City ingin menemukan keseimbangan antara memenuhi permintaan tinggi pada jam sibuk dan mengoptimalkan penggunaan armada pada jam-jam sepi. Mereka ingin memastikan bahwa armada taksi selalu berada di lokasi yang tepat pada waktu yang tepat untuk memaksimalkan pendapatan. Namun, untuk mencapai tujuan ini, perusahaan perlu merancang strategi yang efektif dan mengembangkan sistem penempatan armada yang cerdas untuk menentukan harga argo terbaik.\n",
    "\n",
    "Elemen-elemen kunci dalam pernyataan masalah ini:\n",
    "\n",
    "- Optimalisasi penempatan armada: Mencari cara terbaik untuk menempatkan armada taksi agar sesuai dengan permintaan penumpang.\n",
    "- Promosi: Mendesain strategi promosi yang efektif untuk menarik penumpang pada jam-jam sepi.\n",
    "- Jam sibuk dan sepi: Memanfaatkan perbedaan permintaan pada jam-jam yang berbeda.\n",
    "- Pendapatan: Memaksimalkan pendapatan perusahaan melalui optimasi penggunaan armada dan promosi.\n",
    "- Investasi: Mempertimbangkan biaya promosi yang telah dikeluarkan oleh perusahaan.\n",
    "\n",
    "Dengan merumuskan pernyataan masalah secara jelas, kita dapat mulai mencari solusi yang tepat untuk permasalahan ini."
   ]
  },
  {
   "cell_type": "markdown",
   "metadata": {},
   "source": [
    "## **DATA UNDERSTANDING** ##\n",
    "\n",
    "**Data Extracting**\n",
    "\n",
    "Data yang akan kita guanakan merupakan dataset **New York City TLC Trip Record Data Dictionary**. Dataset berisi record perjalanan taksi dari kota New York yang sapat di akses [click hear.](https://drive.google.com/file/d/1xhUlmGYo5VjiG1F9DnYPLiiKX8wWLHIZ/view?usp=drive_link)\n"
   ]
  },
  {
   "cell_type": "code",
   "execution_count": 513,
   "metadata": {},
   "outputs": [],
   "source": [
    "import numpy as np \n",
    "import pandas as pd \n",
    "import seaborn as sns\n",
    "import matplotlib.pyplot as plt"
   ]
  },
  {
   "cell_type": "code",
   "execution_count": 514,
   "metadata": {},
   "outputs": [
    {
     "name": "stderr",
     "output_type": "stream",
     "text": [
      "C:\\Users\\muhta\\AppData\\Local\\Temp\\ipykernel_22272\\1072267382.py:1: DtypeWarning: Columns (3) have mixed types. Specify dtype option on import or set low_memory=False.\n",
      "  NY = pd.read_csv(\"NYC TLC Trip Record.csv\")\n"
     ]
    },
    {
     "data": {
      "text/html": [
       "<div>\n",
       "<style scoped>\n",
       "    .dataframe tbody tr th:only-of-type {\n",
       "        vertical-align: middle;\n",
       "    }\n",
       "\n",
       "    .dataframe tbody tr th {\n",
       "        vertical-align: top;\n",
       "    }\n",
       "\n",
       "    .dataframe thead th {\n",
       "        text-align: right;\n",
       "    }\n",
       "</style>\n",
       "<table border=\"1\" class=\"dataframe\">\n",
       "  <thead>\n",
       "    <tr style=\"text-align: right;\">\n",
       "      <th></th>\n",
       "      <th>VendorID</th>\n",
       "      <th>lpep_pickup_datetime</th>\n",
       "      <th>lpep_dropoff_datetime</th>\n",
       "      <th>store_and_fwd_flag</th>\n",
       "      <th>RatecodeID</th>\n",
       "      <th>PULocationID</th>\n",
       "      <th>DOLocationID</th>\n",
       "      <th>passenger_count</th>\n",
       "      <th>trip_distance</th>\n",
       "      <th>fare_amount</th>\n",
       "      <th>extra</th>\n",
       "      <th>mta_tax</th>\n",
       "      <th>tip_amount</th>\n",
       "      <th>tolls_amount</th>\n",
       "      <th>ehail_fee</th>\n",
       "      <th>improvement_surcharge</th>\n",
       "      <th>total_amount</th>\n",
       "      <th>payment_type</th>\n",
       "      <th>trip_type</th>\n",
       "      <th>congestion_surcharge</th>\n",
       "    </tr>\n",
       "  </thead>\n",
       "  <tbody>\n",
       "    <tr>\n",
       "      <th>0</th>\n",
       "      <td>2</td>\n",
       "      <td>2023-01-01 00:26:10</td>\n",
       "      <td>2023-01-01 00:37:11</td>\n",
       "      <td>N</td>\n",
       "      <td>1.0</td>\n",
       "      <td>166</td>\n",
       "      <td>143</td>\n",
       "      <td>1.0</td>\n",
       "      <td>2.58</td>\n",
       "      <td>14.9</td>\n",
       "      <td>1.0</td>\n",
       "      <td>0.5</td>\n",
       "      <td>4.03</td>\n",
       "      <td>0.0</td>\n",
       "      <td>NaN</td>\n",
       "      <td>1.0</td>\n",
       "      <td>24.18</td>\n",
       "      <td>1.0</td>\n",
       "      <td>1.0</td>\n",
       "      <td>2.75</td>\n",
       "    </tr>\n",
       "    <tr>\n",
       "      <th>1</th>\n",
       "      <td>2</td>\n",
       "      <td>2023-01-01 00:51:03</td>\n",
       "      <td>2023-01-01 00:57:49</td>\n",
       "      <td>N</td>\n",
       "      <td>1.0</td>\n",
       "      <td>24</td>\n",
       "      <td>43</td>\n",
       "      <td>1.0</td>\n",
       "      <td>1.81</td>\n",
       "      <td>10.7</td>\n",
       "      <td>1.0</td>\n",
       "      <td>0.5</td>\n",
       "      <td>2.64</td>\n",
       "      <td>0.0</td>\n",
       "      <td>NaN</td>\n",
       "      <td>1.0</td>\n",
       "      <td>15.84</td>\n",
       "      <td>1.0</td>\n",
       "      <td>1.0</td>\n",
       "      <td>0.00</td>\n",
       "    </tr>\n",
       "  </tbody>\n",
       "</table>\n",
       "</div>"
      ],
      "text/plain": [
       "   VendorID lpep_pickup_datetime lpep_dropoff_datetime store_and_fwd_flag  RatecodeID  PULocationID  DOLocationID  passenger_count  trip_distance  fare_amount  extra  mta_tax  tip_amount  tolls_amount  ehail_fee  improvement_surcharge  total_amount  payment_type  trip_type  congestion_surcharge\n",
       "0         2  2023-01-01 00:26:10   2023-01-01 00:37:11                  N         1.0           166           143              1.0           2.58         14.9    1.0      0.5        4.03           0.0        NaN                    1.0         24.18           1.0        1.0                  2.75\n",
       "1         2  2023-01-01 00:51:03   2023-01-01 00:57:49                  N         1.0            24            43              1.0           1.81         10.7    1.0      0.5        2.64           0.0        NaN                    1.0         15.84           1.0        1.0                  0.00"
      ]
     },
     "execution_count": 514,
     "metadata": {},
     "output_type": "execute_result"
    }
   ],
   "source": [
    "NY = pd.read_csv(\"NYC TLC Trip Record.csv\")\n",
    "pd.set_option('display.max_columns', 500) # Untuk max display column digedein\n",
    "pd.set_option('display.max_rows', 2000) # Untuk row display column digedein\n",
    "pd.set_option('display.width', 1000)  # display lebar digedein max nya\n",
    "pd.set_option('max_colwidth', 500) # max kolom lebar digedein\n",
    "NY.head(2)"
   ]
  },
  {
   "cell_type": "markdown",
   "metadata": {},
   "source": [
    "Keterangan kolom Dataset : \n",
    "- VendorID                 :                  \n",
    "- lpep_pickup_datetime     : Waktu Pick Up\n",
    "- lpep_dropoff_datetime    : Waktu Drop Off\n",
    "- store_and_fwd_flag       : Data yang di dikirimkan provider apa real time atau tidak (ini tidak mempengaruhi waktu Pick Up dan Drop Off)\n",
    "- RatecodeID               : Jenis Akhir perjalanan, apa perjalanan reguler atau kebandara datau tempat khusus lainnya\n",
    "- PULocationID             : Id Lokasi Pick Up dan zona kota new york\n",
    "- DOLocationID             : Id Lokasi Drop OFF dan zona kota new york\n",
    "- passenger_count          : Jumlah penumpang dalam 1 trip \n",
    "- trip_distance            : Jarak perjalanan\n",
    "- fare_amount              : Tarif waktu dan jarak yang dihitung oleh meteran.\n",
    "- extra                    : Biaya tambahan dan surcharges. Saat ini, ini hanya mencakup biaya tambahan $0.50 dan $1 untuk jam sibuk dan biaya malam\n",
    "- mta_tax                  : Pajak MTA sebesar $0.50 yang secara otomatis dikenakan berdasarkan tarif yang digunakan\n",
    "- tip_amount               : Jumlah tip yang secara otomatis diisi untuk tip kartu kredit. Tip tunai tidak termasuk\n",
    "- tolls_amount             : Jumlah biaya masuk tol\n",
    "- ehail_fee                : Biaya perjalanan Khusus\n",
    "- improvement_surcharge    : Biaya tambahan sebesar $0.30 yang dikenakan pada perjalanan yang dipanggil (hailed) pada saat flag drop. Biaya ini mulai dikenakan pada tahun 2015\n",
    "- total_amount             :Total jumlah yang dibebankan kepada penumpang (Tidak termasuk tip tunai)\n",
    "- payment_type             :Jenis Pembayaran\n",
    "- trip_type                : Kode yang menunjukkan apakah perjalanan tersebut adalah panggilan jalanan (street hail) atau dispatch yang secara otomatis ditetapkan berdasarkan tarif yang digunakan tetapi dapat diubah oleh pengemudi\n",
    "- congestion_surcharge     :Biaya kemacetan"
   ]
  },
  {
   "cell_type": "markdown",
   "metadata": {},
   "source": [
    "### **Informasi from Dataset**\n",
    "Pada tahap ini kita yang sudah memahami masalah perusahaan dan kebutuhan dari perusahaan membutuhkan memahami isi data yang kita miliki, untuk mengetahui apa saja yang yang dapat dianalisisi melalui dataset ini dalam membantu menemukan solusi."
   ]
  },
  {
   "cell_type": "markdown",
   "metadata": {},
   "source": [
    "**1) Dataframe taxi NYS TLC Trip***"
   ]
  },
  {
   "cell_type": "code",
   "execution_count": 515,
   "metadata": {},
   "outputs": [
    {
     "name": "stdout",
     "output_type": "stream",
     "text": [
      "<class 'pandas.core.frame.DataFrame'>\n",
      "RangeIndex: 68211 entries, 0 to 68210\n",
      "Data columns (total 20 columns):\n",
      " #   Column                 Non-Null Count  Dtype  \n",
      "---  ------                 --------------  -----  \n",
      " 0   VendorID               68211 non-null  int64  \n",
      " 1   lpep_pickup_datetime   68211 non-null  object \n",
      " 2   lpep_dropoff_datetime  68211 non-null  object \n",
      " 3   store_and_fwd_flag     63887 non-null  object \n",
      " 4   RatecodeID             63887 non-null  float64\n",
      " 5   PULocationID           68211 non-null  int64  \n",
      " 6   DOLocationID           68211 non-null  int64  \n",
      " 7   passenger_count        63887 non-null  float64\n",
      " 8   trip_distance          68211 non-null  float64\n",
      " 9   fare_amount            68211 non-null  float64\n",
      " 10  extra                  68211 non-null  float64\n",
      " 11  mta_tax                68211 non-null  float64\n",
      " 12  tip_amount             68211 non-null  float64\n",
      " 13  tolls_amount           68211 non-null  float64\n",
      " 14  ehail_fee              0 non-null      float64\n",
      " 15  improvement_surcharge  68211 non-null  float64\n",
      " 16  total_amount           68211 non-null  float64\n",
      " 17  payment_type           63887 non-null  float64\n",
      " 18  trip_type              63877 non-null  float64\n",
      " 19  congestion_surcharge   63887 non-null  float64\n",
      "dtypes: float64(14), int64(3), object(3)\n",
      "memory usage: 10.4+ MB\n"
     ]
    }
   ],
   "source": [
    "# Colomnt dan baris data\n",
    "NY.info()"
   ]
  },
  {
   "cell_type": "code",
   "execution_count": 516,
   "metadata": {},
   "outputs": [
    {
     "data": {
      "text/plain": [
       "array([2, 1])"
      ]
     },
     "execution_count": 516,
     "metadata": {},
     "output_type": "execute_result"
    }
   ],
   "source": [
    "# mencari nilai unique dari masing-masing data yang tersedia (untuk memahami isi data)\n",
    "# chek data uniq dari semua yang memiliki kode seperti PULocationID,DOLocationID, dan lain sebagainya\n",
    "NY['VendorID'].unique()"
   ]
  },
  {
   "cell_type": "markdown",
   "metadata": {},
   "source": [
    "- Dataset memiliki 68211 baris data dan 19 kolom/variable dengan 3 jenis tipe data:\n",
    "    - float(14),interger(3), dan object (3) = dapat disimpulkan bahwa data yang \"terbaca\" lebih banyak numerikal\n",
    "    - pada kondisi ini kita dapat mengetahui data mana yang kita butuhkan dan dapat kita kembangkan untuk untuk menunjang data atau argument kita"
   ]
  },
  {
   "cell_type": "markdown",
   "metadata": {},
   "source": [
    "**2) penjelasan tentang data numerikal dan object**"
   ]
  },
  {
   "cell_type": "code",
   "execution_count": 517,
   "metadata": {},
   "outputs": [
    {
     "data": {
      "text/html": [
       "<div>\n",
       "<style scoped>\n",
       "    .dataframe tbody tr th:only-of-type {\n",
       "        vertical-align: middle;\n",
       "    }\n",
       "\n",
       "    .dataframe tbody tr th {\n",
       "        vertical-align: top;\n",
       "    }\n",
       "\n",
       "    .dataframe thead th {\n",
       "        text-align: right;\n",
       "    }\n",
       "</style>\n",
       "<table border=\"1\" class=\"dataframe\">\n",
       "  <thead>\n",
       "    <tr style=\"text-align: right;\">\n",
       "      <th></th>\n",
       "      <th>VendorID</th>\n",
       "      <th>RatecodeID</th>\n",
       "      <th>PULocationID</th>\n",
       "      <th>DOLocationID</th>\n",
       "      <th>passenger_count</th>\n",
       "      <th>trip_distance</th>\n",
       "      <th>fare_amount</th>\n",
       "      <th>extra</th>\n",
       "      <th>mta_tax</th>\n",
       "      <th>tip_amount</th>\n",
       "      <th>tolls_amount</th>\n",
       "      <th>ehail_fee</th>\n",
       "      <th>improvement_surcharge</th>\n",
       "      <th>total_amount</th>\n",
       "      <th>payment_type</th>\n",
       "      <th>trip_type</th>\n",
       "      <th>congestion_surcharge</th>\n",
       "    </tr>\n",
       "  </thead>\n",
       "  <tbody>\n",
       "    <tr>\n",
       "      <th>count</th>\n",
       "      <td>68211.000000</td>\n",
       "      <td>63887.000000</td>\n",
       "      <td>68211.000000</td>\n",
       "      <td>68211.000000</td>\n",
       "      <td>63887.000000</td>\n",
       "      <td>68211.000000</td>\n",
       "      <td>68211.000000</td>\n",
       "      <td>68211.000000</td>\n",
       "      <td>68211.000000</td>\n",
       "      <td>68211.000000</td>\n",
       "      <td>68211.000000</td>\n",
       "      <td>0.0</td>\n",
       "      <td>68211.000000</td>\n",
       "      <td>68211.000000</td>\n",
       "      <td>63887.000000</td>\n",
       "      <td>63877.000000</td>\n",
       "      <td>63887.000000</td>\n",
       "    </tr>\n",
       "    <tr>\n",
       "      <th>mean</th>\n",
       "      <td>1.863028</td>\n",
       "      <td>1.117160</td>\n",
       "      <td>98.549735</td>\n",
       "      <td>138.429901</td>\n",
       "      <td>1.315870</td>\n",
       "      <td>8.114852</td>\n",
       "      <td>16.603545</td>\n",
       "      <td>0.825431</td>\n",
       "      <td>0.588340</td>\n",
       "      <td>2.139012</td>\n",
       "      <td>0.169627</td>\n",
       "      <td>NaN</td>\n",
       "      <td>0.951625</td>\n",
       "      <td>21.789377</td>\n",
       "      <td>1.373613</td>\n",
       "      <td>1.021933</td>\n",
       "      <td>0.726748</td>\n",
       "    </tr>\n",
       "    <tr>\n",
       "      <th>std</th>\n",
       "      <td>0.343820</td>\n",
       "      <td>1.372913</td>\n",
       "      <td>61.244314</td>\n",
       "      <td>76.761311</td>\n",
       "      <td>0.979054</td>\n",
       "      <td>585.105955</td>\n",
       "      <td>13.470121</td>\n",
       "      <td>1.269904</td>\n",
       "      <td>0.385819</td>\n",
       "      <td>3.052710</td>\n",
       "      <td>1.099789</td>\n",
       "      <td>NaN</td>\n",
       "      <td>0.196875</td>\n",
       "      <td>15.457115</td>\n",
       "      <td>0.508039</td>\n",
       "      <td>0.146465</td>\n",
       "      <td>1.212836</td>\n",
       "    </tr>\n",
       "    <tr>\n",
       "      <th>min</th>\n",
       "      <td>1.000000</td>\n",
       "      <td>1.000000</td>\n",
       "      <td>1.000000</td>\n",
       "      <td>1.000000</td>\n",
       "      <td>0.000000</td>\n",
       "      <td>0.000000</td>\n",
       "      <td>-70.000000</td>\n",
       "      <td>-2.500000</td>\n",
       "      <td>-0.500000</td>\n",
       "      <td>-10.500000</td>\n",
       "      <td>0.000000</td>\n",
       "      <td>NaN</td>\n",
       "      <td>-1.000000</td>\n",
       "      <td>-71.500000</td>\n",
       "      <td>1.000000</td>\n",
       "      <td>1.000000</td>\n",
       "      <td>-2.750000</td>\n",
       "    </tr>\n",
       "    <tr>\n",
       "      <th>25%</th>\n",
       "      <td>2.000000</td>\n",
       "      <td>1.000000</td>\n",
       "      <td>74.000000</td>\n",
       "      <td>74.000000</td>\n",
       "      <td>1.000000</td>\n",
       "      <td>1.110000</td>\n",
       "      <td>9.300000</td>\n",
       "      <td>0.000000</td>\n",
       "      <td>0.500000</td>\n",
       "      <td>0.000000</td>\n",
       "      <td>0.000000</td>\n",
       "      <td>NaN</td>\n",
       "      <td>1.000000</td>\n",
       "      <td>12.900000</td>\n",
       "      <td>1.000000</td>\n",
       "      <td>1.000000</td>\n",
       "      <td>0.000000</td>\n",
       "    </tr>\n",
       "    <tr>\n",
       "      <th>50%</th>\n",
       "      <td>2.000000</td>\n",
       "      <td>1.000000</td>\n",
       "      <td>75.000000</td>\n",
       "      <td>138.000000</td>\n",
       "      <td>1.000000</td>\n",
       "      <td>1.850000</td>\n",
       "      <td>13.500000</td>\n",
       "      <td>0.000000</td>\n",
       "      <td>0.500000</td>\n",
       "      <td>1.600000</td>\n",
       "      <td>0.000000</td>\n",
       "      <td>NaN</td>\n",
       "      <td>1.000000</td>\n",
       "      <td>17.900000</td>\n",
       "      <td>1.000000</td>\n",
       "      <td>1.000000</td>\n",
       "      <td>0.000000</td>\n",
       "    </tr>\n",
       "    <tr>\n",
       "      <th>75%</th>\n",
       "      <td>2.000000</td>\n",
       "      <td>1.000000</td>\n",
       "      <td>129.000000</td>\n",
       "      <td>219.000000</td>\n",
       "      <td>1.000000</td>\n",
       "      <td>3.210000</td>\n",
       "      <td>19.800000</td>\n",
       "      <td>1.000000</td>\n",
       "      <td>0.500000</td>\n",
       "      <td>3.330000</td>\n",
       "      <td>0.000000</td>\n",
       "      <td>NaN</td>\n",
       "      <td>1.000000</td>\n",
       "      <td>26.150000</td>\n",
       "      <td>2.000000</td>\n",
       "      <td>1.000000</td>\n",
       "      <td>2.750000</td>\n",
       "    </tr>\n",
       "    <tr>\n",
       "      <th>max</th>\n",
       "      <td>2.000000</td>\n",
       "      <td>99.000000</td>\n",
       "      <td>265.000000</td>\n",
       "      <td>265.000000</td>\n",
       "      <td>9.000000</td>\n",
       "      <td>120098.840000</td>\n",
       "      <td>490.000000</td>\n",
       "      <td>12.500000</td>\n",
       "      <td>2.750000</td>\n",
       "      <td>222.220000</td>\n",
       "      <td>36.050000</td>\n",
       "      <td>NaN</td>\n",
       "      <td>1.000000</td>\n",
       "      <td>491.000000</td>\n",
       "      <td>5.000000</td>\n",
       "      <td>2.000000</td>\n",
       "      <td>2.750000</td>\n",
       "    </tr>\n",
       "  </tbody>\n",
       "</table>\n",
       "</div>"
      ],
      "text/plain": [
       "           VendorID    RatecodeID  PULocationID  DOLocationID  passenger_count  trip_distance   fare_amount         extra       mta_tax    tip_amount  tolls_amount  ehail_fee  improvement_surcharge  total_amount  payment_type     trip_type  congestion_surcharge\n",
       "count  68211.000000  63887.000000  68211.000000  68211.000000     63887.000000   68211.000000  68211.000000  68211.000000  68211.000000  68211.000000  68211.000000        0.0           68211.000000  68211.000000  63887.000000  63877.000000          63887.000000\n",
       "mean       1.863028      1.117160     98.549735    138.429901         1.315870       8.114852     16.603545      0.825431      0.588340      2.139012      0.169627        NaN               0.951625     21.789377      1.373613      1.021933              0.726748\n",
       "std        0.343820      1.372913     61.244314     76.761311         0.979054     585.105955     13.470121      1.269904      0.385819      3.052710      1.099789        NaN               0.196875     15.457115      0.508039      0.146465              1.212836\n",
       "min        1.000000      1.000000      1.000000      1.000000         0.000000       0.000000    -70.000000     -2.500000     -0.500000    -10.500000      0.000000        NaN              -1.000000    -71.500000      1.000000      1.000000             -2.750000\n",
       "25%        2.000000      1.000000     74.000000     74.000000         1.000000       1.110000      9.300000      0.000000      0.500000      0.000000      0.000000        NaN               1.000000     12.900000      1.000000      1.000000              0.000000\n",
       "50%        2.000000      1.000000     75.000000    138.000000         1.000000       1.850000     13.500000      0.000000      0.500000      1.600000      0.000000        NaN               1.000000     17.900000      1.000000      1.000000              0.000000\n",
       "75%        2.000000      1.000000    129.000000    219.000000         1.000000       3.210000     19.800000      1.000000      0.500000      3.330000      0.000000        NaN               1.000000     26.150000      2.000000      1.000000              2.750000\n",
       "max        2.000000     99.000000    265.000000    265.000000         9.000000  120098.840000    490.000000     12.500000      2.750000    222.220000     36.050000        NaN               1.000000    491.000000      5.000000      2.000000              2.750000"
      ]
     },
     "execution_count": 517,
     "metadata": {},
     "output_type": "execute_result"
    }
   ],
   "source": [
    "NY.describe()"
   ]
  },
  {
   "cell_type": "markdown",
   "metadata": {},
   "source": [
    "- VendorID,RatecodeID,PULocationID,DOLocationID harusnya berisi subject\n",
    "- lpep_pickup_datetime & lpep_dropoff_datetime diubah ke date time untuk mempermudah analisis\n",
    "- Maka dari itu penggunaan discibe bisa lebih di pusatkan apa hal hal tertentu saja"
   ]
  },
  {
   "cell_type": "code",
   "execution_count": 518,
   "metadata": {},
   "outputs": [
    {
     "data": {
      "text/html": [
       "<div>\n",
       "<style scoped>\n",
       "    .dataframe tbody tr th:only-of-type {\n",
       "        vertical-align: middle;\n",
       "    }\n",
       "\n",
       "    .dataframe tbody tr th {\n",
       "        vertical-align: top;\n",
       "    }\n",
       "\n",
       "    .dataframe thead th {\n",
       "        text-align: right;\n",
       "    }\n",
       "</style>\n",
       "<table border=\"1\" class=\"dataframe\">\n",
       "  <thead>\n",
       "    <tr style=\"text-align: right;\">\n",
       "      <th></th>\n",
       "      <th>lpep_pickup_datetime</th>\n",
       "      <th>lpep_dropoff_datetime</th>\n",
       "      <th>store_and_fwd_flag</th>\n",
       "    </tr>\n",
       "  </thead>\n",
       "  <tbody>\n",
       "    <tr>\n",
       "      <th>count</th>\n",
       "      <td>68211</td>\n",
       "      <td>68211</td>\n",
       "      <td>63887</td>\n",
       "    </tr>\n",
       "    <tr>\n",
       "      <th>unique</th>\n",
       "      <td>66575</td>\n",
       "      <td>66519</td>\n",
       "      <td>2</td>\n",
       "    </tr>\n",
       "    <tr>\n",
       "      <th>top</th>\n",
       "      <td>2023-01-07 23:58:06</td>\n",
       "      <td>2023-01-06 00:00:00</td>\n",
       "      <td>N</td>\n",
       "    </tr>\n",
       "    <tr>\n",
       "      <th>freq</th>\n",
       "      <td>4</td>\n",
       "      <td>6</td>\n",
       "      <td>63579</td>\n",
       "    </tr>\n",
       "  </tbody>\n",
       "</table>\n",
       "</div>"
      ],
      "text/plain": [
       "       lpep_pickup_datetime lpep_dropoff_datetime store_and_fwd_flag\n",
       "count                 68211                 68211              63887\n",
       "unique                66575                 66519                  2\n",
       "top     2023-01-07 23:58:06   2023-01-06 00:00:00                  N\n",
       "freq                      4                     6              63579"
      ]
     },
     "execution_count": 518,
     "metadata": {},
     "output_type": "execute_result"
    }
   ],
   "source": [
    "# Categorical Description Analysis\n",
    "NY.describe(include='object')"
   ]
  },
  {
   "cell_type": "markdown",
   "metadata": {},
   "source": [
    "- jumlah data unik dalam kolom data unik masih masuk akal karena jika di lakukan sampling cek terdapat lokasi yang masih ber distrik sama\n",
    "- jumlah count terdapat perbedaan hal tersebut bisa menunjukan apa ada nilai Nul atau memang data ada yang error\n",
    "- pada tahap ini bisa dapat melakukan analisis lebih lanjut dengan mengubah beberapa tipe data sesuai kebutuhan"
   ]
  },
  {
   "cell_type": "code",
   "execution_count": 519,
   "metadata": {},
   "outputs": [],
   "source": [
    "# Mengubah data numerikal menjadi object \n",
    "# RatecodeID\n",
    "NY['RatecodeID'] = NY['RatecodeID'].astype(object)\n",
    "# PULocationID\n",
    "NY['PULocationID'] = NY['PULocationID'].astype(object)\n",
    "# DOLocationID\n",
    "NY['DOLocationID'] = NY['DOLocationID'].astype(object)\n",
    "# payment_type\n",
    "NY['payment_type'] = NY['payment_type'].astype(object)\n",
    "# trip_type\n",
    "NY['trip_type'] = NY['trip_type'].astype(object)\n"
   ]
  },
  {
   "cell_type": "code",
   "execution_count": 520,
   "metadata": {},
   "outputs": [
    {
     "name": "stdout",
     "output_type": "stream",
     "text": [
      "<class 'pandas.core.frame.DataFrame'>\n",
      "RangeIndex: 68211 entries, 0 to 68210\n",
      "Data columns (total 20 columns):\n",
      " #   Column                 Non-Null Count  Dtype  \n",
      "---  ------                 --------------  -----  \n",
      " 0   VendorID               68211 non-null  int64  \n",
      " 1   lpep_pickup_datetime   68211 non-null  object \n",
      " 2   lpep_dropoff_datetime  68211 non-null  object \n",
      " 3   store_and_fwd_flag     63887 non-null  object \n",
      " 4   RatecodeID             63887 non-null  object \n",
      " 5   PULocationID           68211 non-null  object \n",
      " 6   DOLocationID           68211 non-null  object \n",
      " 7   passenger_count        63887 non-null  float64\n",
      " 8   trip_distance          68211 non-null  float64\n",
      " 9   fare_amount            68211 non-null  float64\n",
      " 10  extra                  68211 non-null  float64\n",
      " 11  mta_tax                68211 non-null  float64\n",
      " 12  tip_amount             68211 non-null  float64\n",
      " 13  tolls_amount           68211 non-null  float64\n",
      " 14  ehail_fee              0 non-null      float64\n",
      " 15  improvement_surcharge  68211 non-null  float64\n",
      " 16  total_amount           68211 non-null  float64\n",
      " 17  payment_type           63887 non-null  object \n",
      " 18  trip_type              63877 non-null  object \n",
      " 19  congestion_surcharge   63887 non-null  float64\n",
      "dtypes: float64(11), int64(1), object(8)\n",
      "memory usage: 10.4+ MB\n"
     ]
    }
   ],
   "source": [
    "NY.info()"
   ]
  },
  {
   "cell_type": "code",
   "execution_count": 521,
   "metadata": {},
   "outputs": [
    {
     "data": {
      "text/html": [
       "<div>\n",
       "<style scoped>\n",
       "    .dataframe tbody tr th:only-of-type {\n",
       "        vertical-align: middle;\n",
       "    }\n",
       "\n",
       "    .dataframe tbody tr th {\n",
       "        vertical-align: top;\n",
       "    }\n",
       "\n",
       "    .dataframe thead th {\n",
       "        text-align: right;\n",
       "    }\n",
       "</style>\n",
       "<table border=\"1\" class=\"dataframe\">\n",
       "  <thead>\n",
       "    <tr style=\"text-align: right;\">\n",
       "      <th></th>\n",
       "      <th>VendorID</th>\n",
       "      <th>passenger_count</th>\n",
       "      <th>trip_distance</th>\n",
       "      <th>fare_amount</th>\n",
       "      <th>extra</th>\n",
       "      <th>mta_tax</th>\n",
       "      <th>tip_amount</th>\n",
       "      <th>tolls_amount</th>\n",
       "      <th>ehail_fee</th>\n",
       "      <th>improvement_surcharge</th>\n",
       "      <th>total_amount</th>\n",
       "      <th>congestion_surcharge</th>\n",
       "    </tr>\n",
       "  </thead>\n",
       "  <tbody>\n",
       "    <tr>\n",
       "      <th>count</th>\n",
       "      <td>68211.000000</td>\n",
       "      <td>63887.000000</td>\n",
       "      <td>68211.000000</td>\n",
       "      <td>68211.000000</td>\n",
       "      <td>68211.000000</td>\n",
       "      <td>68211.000000</td>\n",
       "      <td>68211.000000</td>\n",
       "      <td>68211.000000</td>\n",
       "      <td>0.0</td>\n",
       "      <td>68211.000000</td>\n",
       "      <td>68211.000000</td>\n",
       "      <td>63887.000000</td>\n",
       "    </tr>\n",
       "    <tr>\n",
       "      <th>mean</th>\n",
       "      <td>1.863028</td>\n",
       "      <td>1.315870</td>\n",
       "      <td>8.114852</td>\n",
       "      <td>16.603545</td>\n",
       "      <td>0.825431</td>\n",
       "      <td>0.588340</td>\n",
       "      <td>2.139012</td>\n",
       "      <td>0.169627</td>\n",
       "      <td>NaN</td>\n",
       "      <td>0.951625</td>\n",
       "      <td>21.789377</td>\n",
       "      <td>0.726748</td>\n",
       "    </tr>\n",
       "    <tr>\n",
       "      <th>std</th>\n",
       "      <td>0.343820</td>\n",
       "      <td>0.979054</td>\n",
       "      <td>585.105955</td>\n",
       "      <td>13.470121</td>\n",
       "      <td>1.269904</td>\n",
       "      <td>0.385819</td>\n",
       "      <td>3.052710</td>\n",
       "      <td>1.099789</td>\n",
       "      <td>NaN</td>\n",
       "      <td>0.196875</td>\n",
       "      <td>15.457115</td>\n",
       "      <td>1.212836</td>\n",
       "    </tr>\n",
       "    <tr>\n",
       "      <th>min</th>\n",
       "      <td>1.000000</td>\n",
       "      <td>0.000000</td>\n",
       "      <td>0.000000</td>\n",
       "      <td>-70.000000</td>\n",
       "      <td>-2.500000</td>\n",
       "      <td>-0.500000</td>\n",
       "      <td>-10.500000</td>\n",
       "      <td>0.000000</td>\n",
       "      <td>NaN</td>\n",
       "      <td>-1.000000</td>\n",
       "      <td>-71.500000</td>\n",
       "      <td>-2.750000</td>\n",
       "    </tr>\n",
       "    <tr>\n",
       "      <th>25%</th>\n",
       "      <td>2.000000</td>\n",
       "      <td>1.000000</td>\n",
       "      <td>1.110000</td>\n",
       "      <td>9.300000</td>\n",
       "      <td>0.000000</td>\n",
       "      <td>0.500000</td>\n",
       "      <td>0.000000</td>\n",
       "      <td>0.000000</td>\n",
       "      <td>NaN</td>\n",
       "      <td>1.000000</td>\n",
       "      <td>12.900000</td>\n",
       "      <td>0.000000</td>\n",
       "    </tr>\n",
       "    <tr>\n",
       "      <th>50%</th>\n",
       "      <td>2.000000</td>\n",
       "      <td>1.000000</td>\n",
       "      <td>1.850000</td>\n",
       "      <td>13.500000</td>\n",
       "      <td>0.000000</td>\n",
       "      <td>0.500000</td>\n",
       "      <td>1.600000</td>\n",
       "      <td>0.000000</td>\n",
       "      <td>NaN</td>\n",
       "      <td>1.000000</td>\n",
       "      <td>17.900000</td>\n",
       "      <td>0.000000</td>\n",
       "    </tr>\n",
       "    <tr>\n",
       "      <th>75%</th>\n",
       "      <td>2.000000</td>\n",
       "      <td>1.000000</td>\n",
       "      <td>3.210000</td>\n",
       "      <td>19.800000</td>\n",
       "      <td>1.000000</td>\n",
       "      <td>0.500000</td>\n",
       "      <td>3.330000</td>\n",
       "      <td>0.000000</td>\n",
       "      <td>NaN</td>\n",
       "      <td>1.000000</td>\n",
       "      <td>26.150000</td>\n",
       "      <td>2.750000</td>\n",
       "    </tr>\n",
       "    <tr>\n",
       "      <th>max</th>\n",
       "      <td>2.000000</td>\n",
       "      <td>9.000000</td>\n",
       "      <td>120098.840000</td>\n",
       "      <td>490.000000</td>\n",
       "      <td>12.500000</td>\n",
       "      <td>2.750000</td>\n",
       "      <td>222.220000</td>\n",
       "      <td>36.050000</td>\n",
       "      <td>NaN</td>\n",
       "      <td>1.000000</td>\n",
       "      <td>491.000000</td>\n",
       "      <td>2.750000</td>\n",
       "    </tr>\n",
       "  </tbody>\n",
       "</table>\n",
       "</div>"
      ],
      "text/plain": [
       "           VendorID  passenger_count  trip_distance   fare_amount         extra       mta_tax    tip_amount  tolls_amount  ehail_fee  improvement_surcharge  total_amount  congestion_surcharge\n",
       "count  68211.000000     63887.000000   68211.000000  68211.000000  68211.000000  68211.000000  68211.000000  68211.000000        0.0           68211.000000  68211.000000          63887.000000\n",
       "mean       1.863028         1.315870       8.114852     16.603545      0.825431      0.588340      2.139012      0.169627        NaN               0.951625     21.789377              0.726748\n",
       "std        0.343820         0.979054     585.105955     13.470121      1.269904      0.385819      3.052710      1.099789        NaN               0.196875     15.457115              1.212836\n",
       "min        1.000000         0.000000       0.000000    -70.000000     -2.500000     -0.500000    -10.500000      0.000000        NaN              -1.000000    -71.500000             -2.750000\n",
       "25%        2.000000         1.000000       1.110000      9.300000      0.000000      0.500000      0.000000      0.000000        NaN               1.000000     12.900000              0.000000\n",
       "50%        2.000000         1.000000       1.850000     13.500000      0.000000      0.500000      1.600000      0.000000        NaN               1.000000     17.900000              0.000000\n",
       "75%        2.000000         1.000000       3.210000     19.800000      1.000000      0.500000      3.330000      0.000000        NaN               1.000000     26.150000              2.750000\n",
       "max        2.000000         9.000000  120098.840000    490.000000     12.500000      2.750000    222.220000     36.050000        NaN               1.000000    491.000000              2.750000"
      ]
     },
     "execution_count": 521,
     "metadata": {},
     "output_type": "execute_result"
    }
   ],
   "source": [
    "NY.describe()\n"
   ]
  },
  {
   "cell_type": "code",
   "execution_count": 522,
   "metadata": {},
   "outputs": [
    {
     "data": {
      "text/html": [
       "<div>\n",
       "<style scoped>\n",
       "    .dataframe tbody tr th:only-of-type {\n",
       "        vertical-align: middle;\n",
       "    }\n",
       "\n",
       "    .dataframe tbody tr th {\n",
       "        vertical-align: top;\n",
       "    }\n",
       "\n",
       "    .dataframe thead th {\n",
       "        text-align: right;\n",
       "    }\n",
       "</style>\n",
       "<table border=\"1\" class=\"dataframe\">\n",
       "  <thead>\n",
       "    <tr style=\"text-align: right;\">\n",
       "      <th></th>\n",
       "      <th>lpep_pickup_datetime</th>\n",
       "      <th>lpep_dropoff_datetime</th>\n",
       "      <th>store_and_fwd_flag</th>\n",
       "      <th>RatecodeID</th>\n",
       "      <th>PULocationID</th>\n",
       "      <th>DOLocationID</th>\n",
       "      <th>payment_type</th>\n",
       "      <th>trip_type</th>\n",
       "    </tr>\n",
       "  </thead>\n",
       "  <tbody>\n",
       "    <tr>\n",
       "      <th>count</th>\n",
       "      <td>68211</td>\n",
       "      <td>68211</td>\n",
       "      <td>63887</td>\n",
       "      <td>63887.0</td>\n",
       "      <td>68211</td>\n",
       "      <td>68211</td>\n",
       "      <td>63887.0</td>\n",
       "      <td>63877.0</td>\n",
       "    </tr>\n",
       "    <tr>\n",
       "      <th>unique</th>\n",
       "      <td>66575</td>\n",
       "      <td>66519</td>\n",
       "      <td>2</td>\n",
       "      <td>6.0</td>\n",
       "      <td>226</td>\n",
       "      <td>249</td>\n",
       "      <td>5.0</td>\n",
       "      <td>2.0</td>\n",
       "    </tr>\n",
       "    <tr>\n",
       "      <th>top</th>\n",
       "      <td>2023-01-07 23:58:06</td>\n",
       "      <td>2023-01-06 00:00:00</td>\n",
       "      <td>N</td>\n",
       "      <td>1.0</td>\n",
       "      <td>74</td>\n",
       "      <td>75</td>\n",
       "      <td>1.0</td>\n",
       "      <td>1.0</td>\n",
       "    </tr>\n",
       "    <tr>\n",
       "      <th>freq</th>\n",
       "      <td>4</td>\n",
       "      <td>6</td>\n",
       "      <td>63579</td>\n",
       "      <td>62103.0</td>\n",
       "      <td>13257</td>\n",
       "      <td>3524</td>\n",
       "      <td>40686.0</td>\n",
       "      <td>62476.0</td>\n",
       "    </tr>\n",
       "  </tbody>\n",
       "</table>\n",
       "</div>"
      ],
      "text/plain": [
       "       lpep_pickup_datetime lpep_dropoff_datetime store_and_fwd_flag  RatecodeID  PULocationID  DOLocationID  payment_type  trip_type\n",
       "count                 68211                 68211              63887     63887.0         68211         68211       63887.0    63877.0\n",
       "unique                66575                 66519                  2         6.0           226           249           5.0        2.0\n",
       "top     2023-01-07 23:58:06   2023-01-06 00:00:00                  N         1.0            74            75           1.0        1.0\n",
       "freq                      4                     6              63579     62103.0         13257          3524       40686.0    62476.0"
      ]
     },
     "execution_count": 522,
     "metadata": {},
     "output_type": "execute_result"
    }
   ],
   "source": [
    "# Deskripsi kategorical values\n",
    "NY.describe(include=object)"
   ]
  },
  {
   "cell_type": "markdown",
   "metadata": {},
   "source": [
    "**3) melihat nilai NaN pada masing-masing data**"
   ]
  },
  {
   "cell_type": "code",
   "execution_count": 523,
   "metadata": {},
   "outputs": [
    {
     "data": {
      "text/plain": [
       "VendorID                     0\n",
       "lpep_pickup_datetime         0\n",
       "lpep_dropoff_datetime        0\n",
       "store_and_fwd_flag        4324\n",
       "RatecodeID                4324\n",
       "PULocationID                 0\n",
       "DOLocationID                 0\n",
       "passenger_count           4324\n",
       "trip_distance                0\n",
       "fare_amount                  0\n",
       "extra                        0\n",
       "mta_tax                      0\n",
       "tip_amount                   0\n",
       "tolls_amount                 0\n",
       "ehail_fee                68211\n",
       "improvement_surcharge        0\n",
       "total_amount                 0\n",
       "payment_type              4324\n",
       "trip_type                 4334\n",
       "congestion_surcharge      4324\n",
       "dtype: int64"
      ]
     },
     "execution_count": 523,
     "metadata": {},
     "output_type": "execute_result"
    }
   ],
   "source": [
    "# nilai NaN ada sekitar 4324\n",
    "# pada row ehail_fee tidak ada isinya\n",
    "NY.isna().sum()"
   ]
  },
  {
   "cell_type": "markdown",
   "metadata": {},
   "source": [
    "1. Terdapat nilai NaN pada store_and_fwd_flag,RatecodeID,passenger_count,payment_type,trip_type, dan congestion_surcharge\n",
    "2. pada baris \"ehail_fee\" tidak terdapat isi pada data tersebut, karena dari 68211 NaN data tersebut ada 68211\n",
    "- Dari penjabaran diatas kita nantinya dapat memutuskan apa data tersebut ingin di drop atau tidak karena dapat di lihat apa data tersebut dapat menjadi outlier dalam analisis kita"
   ]
  },
  {
   "cell_type": "markdown",
   "metadata": {},
   "source": [
    "**4) Mengecek apa terdapat data yang terduplikasi**"
   ]
  },
  {
   "cell_type": "code",
   "execution_count": 524,
   "metadata": {},
   "outputs": [
    {
     "name": "stdout",
     "output_type": "stream",
     "text": [
      "Jumlah data yang memiliki duplikat pada dataset ini adalah 0\n"
     ]
    }
   ],
   "source": [
    "# tidak ada data duplikat\n",
    "print('Jumlah data yang memiliki duplikat pada dataset ini adalah', NY.duplicated().sum())"
   ]
  },
  {
   "cell_type": "markdown",
   "metadata": {},
   "source": [
    "#### **Questions based on Dataset**\n",
    "\n",
    "Berikut hal-hal yang perlu di analisis untuk menyelesaikan permasalahan dalam pemusatan armada:\n",
    "\n",
    "**Lokasi dan Jam berapa yang bisa di kategorikan waktu ramai atau `Rush Hour`**\n",
    "- Lokasi Pick Up teramai dan tersepi?\n",
    "- Lokasi Drop Off teramai dan tersepi?\n",
    "- Jam dengan traffic paling ramai dan tersepi?"
   ]
  },
  {
   "cell_type": "markdown",
   "metadata": {},
   "source": [
    "### **DATA PREPARATION**"
   ]
  },
  {
   "cell_type": "markdown",
   "metadata": {},
   "source": [
    "- **Merubah tipe data** kolom `lpep_pickup_datetime` dan `lpep_dropoff_datetime` menjadi tipe data **datetime** yang menunjukan berapa lamanya waktu\n",
    "- Mempersiapkan data yang di butuhkan untuk kebutuhan analisis dengan membuat colomnt baru yang tiperlukan"
   ]
  },
  {
   "cell_type": "code",
   "execution_count": 525,
   "metadata": {},
   "outputs": [],
   "source": [
    "NY[\"lpep_pickup_datetime\"] = pd.to_datetime(NY[\"lpep_pickup_datetime\"])\n",
    "NY[\"lpep_dropoff_datetime\"] = pd.to_datetime(NY[\"lpep_dropoff_datetime\"])"
   ]
  },
  {
   "cell_type": "markdown",
   "metadata": {},
   "source": [
    "- mengubah data `lpep_pickup_datetime` dan `lpep_dropoff_datetime` menjadi durasi perjalanan menjaid menit dan mengubah menjadi nama hari dalam setahun untuk membantu dalam analisi yang lebih akurat per hari dan perjamnya"
   ]
  },
  {
   "cell_type": "code",
   "execution_count": 526,
   "metadata": {},
   "outputs": [],
   "source": [
    "NY['Time_duration'] = (NY['lpep_dropoff_datetime'] - NY['lpep_pickup_datetime']).dt.total_seconds() / 60 "
   ]
  },
  {
   "cell_type": "code",
   "execution_count": 527,
   "metadata": {},
   "outputs": [],
   "source": [
    "# membuat colomnt baru pickup day berdasarkan nama hari\n",
    "NY['lpep_pickup_datetime'] = pd.to_datetime(NY['lpep_pickup_datetime'])\n",
    "NY['pickup_day'] = NY['lpep_pickup_datetime'].dt.day_name()"
   ]
  },
  {
   "cell_type": "code",
   "execution_count": 528,
   "metadata": {},
   "outputs": [],
   "source": [
    "NY['lpep_dropoff_datetime'] = pd.to_datetime(NY['lpep_dropoff_datetime'])\n",
    "NY['dropoff_day'] = NY['lpep_dropoff_datetime'].dt.day_name()"
   ]
  },
  {
   "cell_type": "code",
   "execution_count": 529,
   "metadata": {},
   "outputs": [],
   "source": [
    "NY['lpep_pickup_datetime'] = pd.to_datetime(NY['lpep_pickup_datetime'])\n",
    "NY['PUHour'] = NY['lpep_pickup_datetime'].dt.hour\n",
    "PUHour = NY.groupby('PUHour').size()\n",
    "# kita melakukan grouping data untuk nantinya mengetahui pada hari apa dan jam berapa waktu sibuk yang nantinya membantu dalam menentukan promosi yang ingin kita lakukan\n",
    "# pada kolom ini kita hanya menggunakan kolom pickup sebagai asumsi waktu sibuk, yang artinya dalam durasi satu jam itu dimana lokasi dan jam sibuk dengan pickup terbanyak\n",
    "# mengapa dropoff tidak di konversikan juga? karena data tidak merepresentasikan jam sibuk pada lokasi tertentu.\n",
    "# mengubah PUHour menjadi object untuk memudahkan perhitungan statistik yang seharusnya di count bukan di sum\n",
    "NY['PUHour'] = NY['PUHour'].astype(object)"
   ]
  },
  {
   "cell_type": "markdown",
   "metadata": {},
   "source": [
    "- Kita juga dapat membuat filtering yang nantinya membantu kita untuk tau apa di hari dan tahun tersebut merupakan hari kerja atau hari libur yang nantinya akan membantu dalam penilaian dalam menentukan strategi apa yang paling cocok untuk di lakukan"
   ]
  },
  {
   "cell_type": "code",
   "execution_count": 530,
   "metadata": {},
   "outputs": [],
   "source": [
    "# Masukan daftar tanggal merah di New York tahun 2023\n",
    "holiday_dates_ny_2023 = [\n",
    "    \"2023-01-01\",  # Tahun Baru\n",
    "    \"2023-01-16\",  # Martin Luther King Jr. Day\n",
    "    \"2023-02-20\",  # Presidents' Day\n",
    "    \"2023-05-29\",  # Memorial Day\n",
    "    \"2023-07-04\",  # Independence Day\n",
    "    \"2023-09-04\",  # Labor Day\n",
    "    \"2023-11-11\",  # Veterans Day\n",
    "    \"2023-11-23\",  # Thanksgiving Day\n",
    "    \"2023-12-25\",  # Christmas Day\n",
    "]\n",
    "# Konversi daftar tanggal libur menjadi format datetime\n",
    "holidays = pd.to_datetime(holiday_dates_ny_2023)\n",
    "# Konversi kolom lpep_pickup_datetime menjadi datetime (jika belum)\n",
    "NY['lpep_pickup_datetime'] = pd.to_datetime(NY['lpep_pickup_datetime'])\n",
    "# Klasifikasikan hari (W = Hari Kerja, H = Akhir Pekan atau Libur)\n",
    "NY['DayType'] = NY.apply(\n",
    "    lambda row: 'H' if row['lpep_pickup_datetime'].date() in holidays.date or row['lpep_pickup_datetime'].dayofweek >= 5 else 'W',\n",
    "    axis=1)\n"
   ]
  },
  {
   "cell_type": "markdown",
   "metadata": {},
   "source": [
    "Dari syntax di atas didapati 5 kolom baru untuk membantu supporting argumnt dalam membuat keputusan, data yang di dapat dan fungsinya sebagian berikut:\n",
    "1. Time_duration = untuk mengetahui berapa lama durasi perjalanan dari setiap trip\n",
    "2. DayType = untuk mengetahui apa di hari tersebut working day (W) atau hari libur (H), untuk melihat perbandingan mana pengguna taksi paling banyak apa berbeda jauh atau tidak\n",
    "3. Pickup_day dan dropoff_day untuk mengetahui di hari dan jam berapa ramai pada hari tersebut\n",
    "4. PUHour = dari kolom tersebut kita nantinya dapat mengetahui di jam berpa permintaan terbanyak dengan filter hari dan waktu libur atau tidak"
   ]
  },
  {
   "cell_type": "markdown",
   "metadata": {},
   "source": [
    "Pada data understanding kita sudah mengetahui bahwa PULocationID & DOLocationID dibaca sebagai interger, untuk memudahkan dalam visualisasi di tableau, kita akan mengubah location ID menjadi object yang berisi lokasi.\n",
    "- Data lokasi dapat di download pada link [Zone Code](https://d37ci6vzurychx.cloudfront.net/misc/taxi_zone_lookup.csv) \n",
    "- nantinya kita akan bisa mengetahui dimanan lokasi pickup dan dropoff terramai pada jam sibuk untuk membantu dalam pemusatan armada\n",
    "- **Merubah tipe data** kolom 'PULocationID' dan 'DOLocationID' **menjadi object**\n",
    "- location ID di ubah menjadi object dengan isi tempat district yang nantinya akan untuk menjcari lokasi tersibuk dan tempat tujuan terbanyak\n"
   ]
  },
  {
   "cell_type": "markdown",
   "metadata": {},
   "source": [
    "### **Menentukan jam sibuk**"
   ]
  },
  {
   "cell_type": "code",
   "execution_count": 531,
   "metadata": {},
   "outputs": [
    {
     "name": "stderr",
     "output_type": "stream",
     "text": [
      "C:\\Users\\muhta\\AppData\\Local\\Temp\\ipykernel_22272\\1290749351.py:3: FutureWarning: \n",
      "\n",
      "Passing `palette` without assigning `hue` is deprecated and will be removed in v0.14.0. Assign the `x` variable to `hue` and set `legend=False` for the same effect.\n",
      "\n",
      "  sns.countplot(x='PUHour', data=NY, palette='coolwarm')\n"
     ]
    },
    {
     "data": {
      "image/png": "[encoded data removed]",
      "text/plain": [
       "<Figure size 1000x600 with 1 Axes>"
      ]
     },
     "metadata": {},
     "output_type": "display_data"
    }
   ],
   "source": [
    "# Distribusi Waktu Pickup (PUHour) untuk menentukan range jam sibuk\n",
    "plt.figure(figsize=(10, 6))\n",
    "sns.countplot(x='PUHour', data=NY, palette='coolwarm')\n",
    "plt.title('Pickup Distribution by Hour')\n",
    "plt.xlabel('Hour of Day')\n",
    "plt.ylabel('Count')\n",
    "plt.show()"
   ]
  },
  {
   "cell_type": "markdown",
   "metadata": {},
   "source": [
    "- Dapat kita tarik kesimpulan bahwa jam sibuk rata-rata dalam satu minggu adalah di jam 15.00 - 18.00\n",
    "- Melakukan pengelompokan Pickup di jam sibuk dan tidak"
   ]
  },
  {
   "cell_type": "code",
   "execution_count": 532,
   "metadata": {},
   "outputs": [],
   "source": [
    "# Tambahkan kolom baru untuk menandai RushHour\n",
    "NY['RushHour'] = NY['lpep_pickup_datetime'].apply(\n",
    "    lambda dt: 'RushHour' if dt.time() >= pd.to_datetime('14:30').time() and dt.time() <= pd.to_datetime('18:00').time() else 'NonRushHour')"
   ]
  },
  {
   "cell_type": "markdown",
   "metadata": {},
   "source": [
    "**Mengubah Location ID menjadi nama tempat untuk memudahkan dalam mengetahui lokasi mana yang nantinya akan membantu dalam analisis**\n",
    "\n",
    "- Data lokasi dapat di akses pada link [taxi zone name](https://www.nyc.gov/site/tlc/about/tlc-trip-record-data.page)\n",
    "- Dengan data tersebut nantinya output lokasi sudah berupa nama jalan yang memudahkan kita untuk menentukan lokasi secara detail"
   ]
  },
  {
   "cell_type": "code",
   "execution_count": 533,
   "metadata": {},
   "outputs": [
    {
     "data": {
      "text/html": [
       "<div>\n",
       "<style scoped>\n",
       "    .dataframe tbody tr th:only-of-type {\n",
       "        vertical-align: middle;\n",
       "    }\n",
       "\n",
       "    .dataframe tbody tr th {\n",
       "        vertical-align: top;\n",
       "    }\n",
       "\n",
       "    .dataframe thead th {\n",
       "        text-align: right;\n",
       "    }\n",
       "</style>\n",
       "<table border=\"1\" class=\"dataframe\">\n",
       "  <thead>\n",
       "    <tr style=\"text-align: right;\">\n",
       "      <th></th>\n",
       "      <th>VendorID</th>\n",
       "      <th>lpep_pickup_datetime</th>\n",
       "      <th>lpep_dropoff_datetime</th>\n",
       "      <th>store_and_fwd_flag</th>\n",
       "      <th>RatecodeID</th>\n",
       "      <th>PULocationID</th>\n",
       "      <th>DOLocationID</th>\n",
       "      <th>passenger_count</th>\n",
       "      <th>trip_distance</th>\n",
       "      <th>fare_amount</th>\n",
       "      <th>extra</th>\n",
       "      <th>mta_tax</th>\n",
       "      <th>tip_amount</th>\n",
       "      <th>tolls_amount</th>\n",
       "      <th>ehail_fee</th>\n",
       "      <th>improvement_surcharge</th>\n",
       "      <th>total_amount</th>\n",
       "      <th>payment_type</th>\n",
       "      <th>trip_type</th>\n",
       "      <th>congestion_surcharge</th>\n",
       "      <th>Time_duration</th>\n",
       "      <th>pickup_day</th>\n",
       "      <th>dropoff_day</th>\n",
       "      <th>PUHour</th>\n",
       "      <th>DayType</th>\n",
       "      <th>RushHour</th>\n",
       "      <th>PUZone</th>\n",
       "      <th>DOZone</th>\n",
       "      <th>PUBoroughZone</th>\n",
       "      <th>DOBoroughZone</th>\n",
       "    </tr>\n",
       "  </thead>\n",
       "  <tbody>\n",
       "    <tr>\n",
       "      <th>0</th>\n",
       "      <td>2</td>\n",
       "      <td>2023-01-01 00:26:10</td>\n",
       "      <td>2023-01-01 00:37:11</td>\n",
       "      <td>N</td>\n",
       "      <td>1.0</td>\n",
       "      <td>166</td>\n",
       "      <td>143</td>\n",
       "      <td>1.0</td>\n",
       "      <td>2.58</td>\n",
       "      <td>14.9</td>\n",
       "      <td>1.0</td>\n",
       "      <td>0.5</td>\n",
       "      <td>4.03</td>\n",
       "      <td>0.0</td>\n",
       "      <td>NaN</td>\n",
       "      <td>1.0</td>\n",
       "      <td>24.18</td>\n",
       "      <td>1.0</td>\n",
       "      <td>1.0</td>\n",
       "      <td>2.75</td>\n",
       "      <td>11.016667</td>\n",
       "      <td>Sunday</td>\n",
       "      <td>Sunday</td>\n",
       "      <td>0</td>\n",
       "      <td>H</td>\n",
       "      <td>NonRushHour</td>\n",
       "      <td>Morningside Heights</td>\n",
       "      <td>Lincoln Square West</td>\n",
       "      <td>Manhattan</td>\n",
       "      <td>Manhattan</td>\n",
       "    </tr>\n",
       "    <tr>\n",
       "      <th>1</th>\n",
       "      <td>2</td>\n",
       "      <td>2023-01-01 00:51:03</td>\n",
       "      <td>2023-01-01 00:57:49</td>\n",
       "      <td>N</td>\n",
       "      <td>1.0</td>\n",
       "      <td>24</td>\n",
       "      <td>43</td>\n",
       "      <td>1.0</td>\n",
       "      <td>1.81</td>\n",
       "      <td>10.7</td>\n",
       "      <td>1.0</td>\n",
       "      <td>0.5</td>\n",
       "      <td>2.64</td>\n",
       "      <td>0.0</td>\n",
       "      <td>NaN</td>\n",
       "      <td>1.0</td>\n",
       "      <td>15.84</td>\n",
       "      <td>1.0</td>\n",
       "      <td>1.0</td>\n",
       "      <td>0.00</td>\n",
       "      <td>6.766667</td>\n",
       "      <td>Sunday</td>\n",
       "      <td>Sunday</td>\n",
       "      <td>0</td>\n",
       "      <td>H</td>\n",
       "      <td>NonRushHour</td>\n",
       "      <td>Bloomingdale</td>\n",
       "      <td>Central Park</td>\n",
       "      <td>Manhattan</td>\n",
       "      <td>Manhattan</td>\n",
       "    </tr>\n",
       "  </tbody>\n",
       "</table>\n",
       "</div>"
      ],
      "text/plain": [
       "   VendorID lpep_pickup_datetime lpep_dropoff_datetime store_and_fwd_flag RatecodeID PULocationID DOLocationID  passenger_count  trip_distance  fare_amount  extra  mta_tax  tip_amount  tolls_amount  ehail_fee  improvement_surcharge  total_amount payment_type trip_type  congestion_surcharge  Time_duration pickup_day dropoff_day PUHour DayType     RushHour               PUZone               DOZone PUBoroughZone DOBoroughZone\n",
       "0         2  2023-01-01 00:26:10   2023-01-01 00:37:11                  N        1.0          166          143              1.0           2.58         14.9    1.0      0.5        4.03           0.0        NaN                    1.0         24.18          1.0       1.0                  2.75      11.016667     Sunday      Sunday      0       H  NonRushHour  Morningside Heights  Lincoln Square West     Manhattan     Manhattan\n",
       "1         2  2023-01-01 00:51:03   2023-01-01 00:57:49                  N        1.0           24           43              1.0           1.81         10.7    1.0      0.5        2.64           0.0        NaN                    1.0         15.84          1.0       1.0                  0.00       6.766667     Sunday      Sunday      0       H  NonRushHour         Bloomingdale         Central Park     Manhattan     Manhattan"
      ]
     },
     "execution_count": 533,
     "metadata": {},
     "output_type": "execute_result"
    }
   ],
   "source": [
    "# data yang sudah di download kita load dulu kedalam file ini\n",
    "lookup_data = pd.read_csv(r\"C:\\Users\\muhta\\OneDrive\\Documents\\OneDrive\\Desktop\\BELAJAR_DATA_ANALYS\\taxi_zone_lookup.csv\")\n",
    "location_to_zone = dict(zip(lookup_data['LocationID'], lookup_data['Zone'])) # melakukan zip dan lookup data pada masing-masing location dan zona\n",
    "# membuat kolom baru Pickup zone\n",
    "NY['PUZone'] = NY['PULocationID'].map(location_to_zone)\n",
    "# membuat kolom baru drop off zone\n",
    "NY['DOZone'] = NY['DOLocationID'].map(location_to_zone)\n",
    "\n",
    "location_to_zone = dict(zip(lookup_data['LocationID'], lookup_data['Borough'])) # melakukan zip dan lookup data pada masing-masing location dan zona\n",
    "# membuat kolom baru Pickup zone\n",
    "NY['PUBoroughZone'] = NY['PULocationID'].map(location_to_zone)\n",
    "# membuat kolom baru drop off zone\n",
    "NY['DOBoroughZone'] = NY['DOLocationID'].map(location_to_zone)\n",
    "NY.head(2)\n"
   ]
  },
  {
   "cell_type": "markdown",
   "metadata": {},
   "source": [
    "## DATA CLEANSING\n",
    "Pada data cleasning kita bisa menyesuaikan data yang sekiranya dapat menunjang proses analisis nantinya, ada beberapa colomnt yang dapat kita hapus atau drop, berikut adalah tahapan untuk melakukan analisis\n",
    "1. Tentukan apa yang dianalisis, colomnt yang tidak di butuhkan dapat di drop\n",
    "2. Data yang dirasa di butuhkan tapi memiliki nilai NaN sebaiknya di drop karena berpotensi menjadi outlier \n",
    "3. Mengecek outlier, pada nilai numerik sebaiknya di lakukan nilai outlier, nilai tersebut dapat mempengaruhi data\n"
   ]
  },
  {
   "cell_type": "code",
   "execution_count": 534,
   "metadata": {},
   "outputs": [
    {
     "name": "stdout",
     "output_type": "stream",
     "text": [
      "<class 'pandas.core.frame.DataFrame'>\n",
      "RangeIndex: 68211 entries, 0 to 68210\n",
      "Data columns (total 30 columns):\n",
      " #   Column                 Non-Null Count  Dtype         \n",
      "---  ------                 --------------  -----         \n",
      " 0   VendorID               68211 non-null  int64         \n",
      " 1   lpep_pickup_datetime   68211 non-null  datetime64[ns]\n",
      " 2   lpep_dropoff_datetime  68211 non-null  datetime64[ns]\n",
      " 3   store_and_fwd_flag     63887 non-null  object        \n",
      " 4   RatecodeID             63887 non-null  object        \n",
      " 5   PULocationID           68211 non-null  object        \n",
      " 6   DOLocationID           68211 non-null  object        \n",
      " 7   passenger_count        63887 non-null  float64       \n",
      " 8   trip_distance          68211 non-null  float64       \n",
      " 9   fare_amount            68211 non-null  float64       \n",
      " 10  extra                  68211 non-null  float64       \n",
      " 11  mta_tax                68211 non-null  float64       \n",
      " 12  tip_amount             68211 non-null  float64       \n",
      " 13  tolls_amount           68211 non-null  float64       \n",
      " 14  ehail_fee              0 non-null      float64       \n",
      " 15  improvement_surcharge  68211 non-null  float64       \n",
      " 16  total_amount           68211 non-null  float64       \n",
      " 17  payment_type           63887 non-null  object        \n",
      " 18  trip_type              63877 non-null  object        \n",
      " 19  congestion_surcharge   63887 non-null  float64       \n",
      " 20  Time_duration          68211 non-null  float64       \n",
      " 21  pickup_day             68211 non-null  object        \n",
      " 22  dropoff_day            68211 non-null  object        \n",
      " 23  PUHour                 68211 non-null  object        \n",
      " 24  DayType                68211 non-null  object        \n",
      " 25  RushHour               68211 non-null  object        \n",
      " 26  PUZone                 68076 non-null  object        \n",
      " 27  DOZone                 67785 non-null  object        \n",
      " 28  PUBoroughZone          68145 non-null  object        \n",
      " 29  DOBoroughZone          67969 non-null  object        \n",
      "dtypes: datetime64[ns](2), float64(12), int64(1), object(15)\n",
      "memory usage: 15.6+ MB\n"
     ]
    }
   ],
   "source": [
    "NY.info()"
   ]
  },
  {
   "cell_type": "markdown",
   "metadata": {},
   "source": [
    "**1) Drop & Filter Data**\n",
    "- **Passanger_count**\n",
    "    atau jumlah penumpang pada satu kali trip. Umumnya banyaknya penumpang tidak mempengaruhi argo pada taksi, pada beberapa kasus mungkin jumlah penumpang mempengaruhi jenis mobil pada taksi yang mengakibatkan perubahan argo meski tidak begitu signifikan. pada topik permasalahan yang kita cari jumlah armada bisa di asumsikan dengan jumlah banyak perjalanan bukan banyak penumpang."
   ]
  },
  {
   "cell_type": "code",
   "execution_count": 535,
   "metadata": {},
   "outputs": [],
   "source": [
    "# Drop Passanger_count\n",
    "NY.drop('passenger_count', axis=1, inplace=True)"
   ]
  },
  {
   "cell_type": "markdown",
   "metadata": {},
   "source": [
    "- **VendorID** berisi tempat server yang menyimpasn data perusahaan. tabel ini tidak memiliki mempengaruhi antara dimana dan kapan waktu sibuk dan lokasi sibuk, selian itu data tersebut tidak bisa menjadi supporting statment untuk tujuan yang kita inginkan"
   ]
  },
  {
   "cell_type": "code",
   "execution_count": 536,
   "metadata": {},
   "outputs": [],
   "source": [
    "# Drop VendorID\n",
    "NY.drop('VendorID', axis=1, inplace=True)"
   ]
  },
  {
   "cell_type": "markdown",
   "metadata": {},
   "source": [
    "- **extra** pada colomnt extra, jika kita melihat isi dari kolom extra, terdapat angka yang berisitiope data float dengan isi (jika di lakukan unique) : \n",
    "array([ 1.  ,  0.5 ,  3.75,  0.  ,  3.25,  6.  ,  5.  ,  2.75,  5.5 , -1.  ,  2.5 ,  5.25,  7.5 , -2.5 , -0.5 , 12.5 ]).\n",
    "Selain itu penjelasan tentang kolomnt extra tidak ada dalam penjelasan data dari purwadika, akan sulit mengasusmsikan data tersebut sebagai nilai apa. Merujuk pada tujuan kita yang ingin mencari lokasi dan jam sibuk yang membutuhkan armada nilai extra tidak dapat di jadikan supporting argument pada analisis kita."
   ]
  },
  {
   "cell_type": "code",
   "execution_count": 537,
   "metadata": {},
   "outputs": [],
   "source": [
    "# Drop extra\n",
    "NY.drop('extra', axis=1, inplace=True)"
   ]
  },
  {
   "cell_type": "markdown",
   "metadata": {},
   "source": [
    "- **tip_amount** atau pemberian tip kepada Driver adalah nilai yang uang tip yang di berikan kepada driver, pada colomnt ini tip tunai tidak termasuk kedalam sistem. niali tip_amount pada colomnt tidak akan mempengaruhi pemberian promo pada lokasi dan jam sibuk karena pemberian tip dilakukan secara sukarela oleh penumpang"
   ]
  },
  {
   "cell_type": "code",
   "execution_count": 538,
   "metadata": {},
   "outputs": [],
   "source": [
    "# Drop tip_amount\n",
    "NY.drop('tip_amount', axis=1, inplace=True)"
   ]
  },
  {
   "cell_type": "markdown",
   "metadata": {},
   "source": [
    "- **tolls_amount** merupakan biaya yang di bebankan kepada penumpang jika melewari jalan tol, nilai ini tidak mempengaruhi penilaian yang kita lakukan, value dalam kolom tersebut umunya juga bernilai 0 yang sulit menjadi acuan untuk membantu dalam interpretasi lokasi, maka untuk menghindari missleading maka sebaiknya clomnt tersebut di hapus."
   ]
  },
  {
   "cell_type": "code",
   "execution_count": 539,
   "metadata": {},
   "outputs": [],
   "source": [
    "# Drop tolls_amount\n",
    "NY.drop('tolls_amount', axis=1, inplace=True)"
   ]
  },
  {
   "cell_type": "markdown",
   "metadata": {},
   "source": [
    "- **mta_tax** Pajak MTA sebesar $0.50 yang secara otomatis dikenakan berdasarkan tarif yang digunakan. colomnt tersebut dapat di hapus karena pasti sudah masuk secara otomatis dengan nilai yang di bebankan ke penumpang pada kolomnt total_amount. selain itu peraturan tersebut akan berbeda sesuai distrik sehingga tidak mempengaruhi analisis lokasi jam sibuk."
   ]
  },
  {
   "cell_type": "code",
   "execution_count": 540,
   "metadata": {},
   "outputs": [],
   "source": [
    "# Drop mta_tax\n",
    "NY.drop('mta_tax', axis=1, inplace=True)"
   ]
  },
  {
   "cell_type": "markdown",
   "metadata": {},
   "source": [
    "- **ehail_fee** pada penjelasan info diatas ehail_fee tidak memiliki nilai atau semua data ber isi NaN, sulit mengasumsikan value pada masing-masing trip, maka data dapat di hapus."
   ]
  },
  {
   "cell_type": "code",
   "execution_count": 541,
   "metadata": {},
   "outputs": [],
   "source": [
    "# Drop ehail_fee\n",
    "NY.drop('ehail_fee', axis=1, inplace=True)"
   ]
  },
  {
   "cell_type": "markdown",
   "metadata": {},
   "source": [
    "- **improvement_surcharge** nilai ini mulai dibebankan kepada penumpang di tahun 2015, improvement_surcharge berisi nilai yang dibayarkan oleh penumpang pada lokasi the flag atau lokasi yang dinilai minim sinyal. lokasi ini penting dalam memberikan inside untuk melakukan improvement bagi perusahaan untuk meningkatkan kepuasan publik, meskipun begitu nilai ini tidak mempengaruhi analisi kita yang sebelumnya sudah mempunyai lokasi dan flag location maka improvement_surcharge dapat di hapus. nilai ini dapat di pertahankan jika kita ingin menganalisi banyaknya biaya yang harus di keluarkan untuk melakukan improvement, banyak trip setiap tahunnya, denah lokasi, posisi dan masih banyak aspek lainnya.\n"
   ]
  },
  {
   "cell_type": "code",
   "execution_count": 542,
   "metadata": {},
   "outputs": [],
   "source": [
    "# Drop Improvement_surcharge\n",
    "NY.drop('improvement_surcharge', axis=1, inplace=True)"
   ]
  },
  {
   "cell_type": "markdown",
   "metadata": {},
   "source": [
    "- **payment_type** jenis pembayaran tidak relevan pada tujuan analisis, karena banyak faktor penentu mengapa penumpang memilih metode bayar tersebut, jenis pembayaran yang tidak akan mempengaruhi pendapatan dan tidak mempengaruhi jumlah armada"
   ]
  },
  {
   "cell_type": "code",
   "execution_count": 543,
   "metadata": {},
   "outputs": [],
   "source": [
    "# Drop payment_type\n",
    "NY.drop('payment_type', axis=1, inplace=True)"
   ]
  },
  {
   "cell_type": "markdown",
   "metadata": {},
   "source": [
    "- saat melakukan filtering data, data congestion_surcharge dilihat nilai unisquenya, didapati value dari nilai tersebut ada yang anomali karena menyajikan nilai minus jika di lakukan kode **NY['congestion_surcharge'].unique()**. hal tersebut merupakan anomali karena isi dari congestion_surcharge adalah biaya tambahan kemacetan yang harusnya bukan nilai minus, maka dari itu data yang dirasa akan digunakan akan di lihat untuk dinilai apa mungkin memiliki nilai minus atau tidak."
   ]
  },
  {
   "cell_type": "code",
   "execution_count": 544,
   "metadata": {},
   "outputs": [
    {
     "name": "stdout",
     "output_type": "stream",
     "text": [
      "Kolom dengan nilai negatif:\n",
      "fare_amount: 176 nilai negatif\n",
      "total_amount: 179 nilai negatif\n",
      "congestion_surcharge: 3 nilai negatif\n"
     ]
    }
   ],
   "source": [
    "# kita mencari data yang berisi nilai numerikal pada kolom kita\n",
    "numerical_columns = NY.select_dtypes(include=['number'])\n",
    "# Selanjutnya cek apa ada nilai negatif di setiap kolom dengan melakukan looping\n",
    "negative_values = {}\n",
    "for col in numerical_columns.columns:\n",
    "    count_negatives = (NY[col] < 0).sum()\n",
    "    if count_negatives > 0:\n",
    "        negative_values[col] = count_negatives\n",
    "# lalu tampilkan hasil dengan memprint keterangan dan banyak nilai negatif pada setiap kolom\n",
    "if negative_values:\n",
    "    print(\"Kolom dengan nilai negatif:\")\n",
    "    for col, count in negative_values.items():\n",
    "        print(f\"{col}: {count} nilai negatif\")\n",
    "else:\n",
    "    print(\"Tidak ada nilai negatif dalam kolom numerik.\")\n"
   ]
  },
  {
   "cell_type": "markdown",
   "metadata": {},
   "source": [
    "- Dari informasi diatas kita mengetahui bahwa terdapat 3 colomnt yang memiliki nilai minus yang berpotensi menjadi anomali. pada tabel fare_amount, total_amount, dan congestion_surcharge tidak mungkin ada nilai minus karena merupakan pemasukan atau pendapatan yang di bayarkan oleh penumpang kepada supir. maka valeu tersebut harus kita ubah menjadi tidak minus"
   ]
  },
  {
   "cell_type": "code",
   "execution_count": 545,
   "metadata": {},
   "outputs": [],
   "source": [
    "# mengubah nilai negatif pada fare_amount menjadi positif\n",
    "NY['fare_amount'] = NY['fare_amount'].apply(lambda x: 0 if x < 0 else x)\n",
    "# mengubah nilai negatif pada total_amount menjadi positif\n",
    "NY['total_amount'] = NY['total_amount'].apply(lambda x: 0 if x < 0 else x)\n",
    "# mengubah nilai negatif pada congestion_surcharger menjadi positif\n",
    "NY['congestion_surcharge'] = NY['congestion_surcharge'].apply(lambda x: 0 if x < 0 else x)"
   ]
  },
  {
   "cell_type": "code",
   "execution_count": 546,
   "metadata": {},
   "outputs": [
    {
     "data": {
      "text/plain": [
       "array([2.75, 0.  , 2.5 ,  nan])"
      ]
     },
     "execution_count": 546,
     "metadata": {},
     "output_type": "execute_result"
    }
   ],
   "source": [
    "NY['congestion_surcharge'].unique()\n",
    "# jika di cek lagi deengan kode diatas tidak ada nilai minus pada ketiga colomnt tersebut"
   ]
  },
  {
   "cell_type": "markdown",
   "metadata": {},
   "source": [
    "Pada colomnt 'total_amount', 'fare_amount', 'Time_duration', 'trip_distance' terdapat nilai 0 yang tidak masuk akal, sebaggai contoh tidak mungkin naik taksi tampa membayar, atau tidak mungkin naik taksi tidak ada jarak atau durasi"
   ]
  },
  {
   "cell_type": "code",
   "execution_count": 547,
   "metadata": {},
   "outputs": [
    {
     "name": "stdout",
     "output_type": "stream",
     "text": [
      "<class 'pandas.core.frame.DataFrame'>\n",
      "Index: 64731 entries, 0 to 68210\n",
      "Data columns (total 21 columns):\n",
      " #   Column                 Non-Null Count  Dtype         \n",
      "---  ------                 --------------  -----         \n",
      " 0   lpep_pickup_datetime   64731 non-null  datetime64[ns]\n",
      " 1   lpep_dropoff_datetime  64731 non-null  datetime64[ns]\n",
      " 2   store_and_fwd_flag     60565 non-null  object        \n",
      " 3   RatecodeID             60565 non-null  object        \n",
      " 4   PULocationID           64731 non-null  object        \n",
      " 5   DOLocationID           64731 non-null  object        \n",
      " 6   trip_distance          64731 non-null  float64       \n",
      " 7   fare_amount            64731 non-null  float64       \n",
      " 8   total_amount           64731 non-null  float64       \n",
      " 9   trip_type              60555 non-null  object        \n",
      " 10  congestion_surcharge   60565 non-null  float64       \n",
      " 11  Time_duration          64731 non-null  float64       \n",
      " 12  pickup_day             64731 non-null  object        \n",
      " 13  dropoff_day            64731 non-null  object        \n",
      " 14  PUHour                 64731 non-null  object        \n",
      " 15  DayType                64731 non-null  object        \n",
      " 16  RushHour               64731 non-null  object        \n",
      " 17  PUZone                 64702 non-null  object        \n",
      " 18  DOZone                 64601 non-null  object        \n",
      " 19  PUBoroughZone          64707 non-null  object        \n",
      " 20  DOBoroughZone          64535 non-null  object        \n",
      "dtypes: datetime64[ns](2), float64(5), object(14)\n",
      "memory usage: 10.9+ MB\n",
      "None\n"
     ]
    }
   ],
   "source": [
    "# Menghapus baris di mana salah satu kolom memiliki nilai 0\n",
    "columns_to_check = ['total_amount', 'fare_amount', 'Time_duration', 'trip_distance']\n",
    "\n",
    "# Filter dataset untuk hanya menyimpan baris di mana semua kolom tidak bernilai 0\n",
    "NY = NY[(NY[columns_to_check] != 0).all(axis=1)]\n",
    "\n",
    "# Menampilkan informasi dataset setelah penghapusan\n",
    "print(NY.info())"
   ]
  },
  {
   "cell_type": "markdown",
   "metadata": {},
   "source": [
    "**2) Handling Missing Value**\n",
    "- Awal analsiis kita sudah mengetahui beberapa missing value dari beberapa colomnt, setelah di lakukan pengecekan data dengan mendrop dan leihat data yang tidak di butuhkan kita melakukan pengecekan ulang untuk mengetahui clomnt apa saja yang memiliki nilai NaN dalam barisnya."
   ]
  },
  {
   "cell_type": "code",
   "execution_count": 548,
   "metadata": {},
   "outputs": [
    {
     "data": {
      "text/plain": [
       "lpep_pickup_datetime        0\n",
       "lpep_dropoff_datetime       0\n",
       "store_and_fwd_flag       4166\n",
       "RatecodeID               4166\n",
       "PULocationID                0\n",
       "DOLocationID                0\n",
       "trip_distance               0\n",
       "fare_amount                 0\n",
       "total_amount                0\n",
       "trip_type                4176\n",
       "congestion_surcharge     4166\n",
       "Time_duration               0\n",
       "pickup_day                  0\n",
       "dropoff_day                 0\n",
       "PUHour                      0\n",
       "DayType                     0\n",
       "RushHour                    0\n",
       "PUZone                     29\n",
       "DOZone                    130\n",
       "PUBoroughZone              24\n",
       "DOBoroughZone             196\n",
       "dtype: int64"
      ]
     },
     "execution_count": 548,
     "metadata": {},
     "output_type": "execute_result"
    }
   ],
   "source": [
    "NY.isna().sum()"
   ]
  },
  {
   "cell_type": "markdown",
   "metadata": {},
   "source": [
    "- Pada Informasi diatas data NaN pada PUZone dan DOZone mungkin saya lokasinya tidak diketahui, hal tersebut dapat terjadi pada beberapa faktor dalam kasus ini, pada lokasi NaN pada dua data tersebut diketahu ada daerah yang berasal dari luar kota Newyork selain itu ada tempat terpencil yang memiliki sinyal kurang bagus atau tidak terdata dalam database. maka dari itu nilai NaN pada dua colomnt tersebut akan di ubah menjadi \"unknown\" string yang berarti trip yang tidak di ketahui lokasi Pick Up atau Drop Off nya. lokasi unknown dapat menjadi masukan nantinya bagi perusahaan dalam pemetaan lokasi\n",
    "- unkown di Boroughzone"
   ]
  },
  {
   "cell_type": "code",
   "execution_count": 549,
   "metadata": {},
   "outputs": [],
   "source": [
    "# Change NaN menjadi 'unknown' di coloumnt PUZone dan DOZone\n",
    "NY['PUZone'] = NY['PUZone'].fillna('unknown')\n",
    "NY['DOZone'] = NY['DOZone'].fillna('unknown')"
   ]
  },
  {
   "cell_type": "code",
   "execution_count": 550,
   "metadata": {},
   "outputs": [],
   "source": [
    "# Change NaN menjadi 'unknown' di coloumnt PUBoroughZone DOBoroughZone\n",
    "NY['PUBoroughZone'] = NY['PUBoroughZone'].fillna('unknown')\n",
    "NY['DOBoroughZone'] = NY['DOBoroughZone'].fillna('unknown')"
   ]
  },
  {
   "cell_type": "code",
   "execution_count": 551,
   "metadata": {},
   "outputs": [
    {
     "data": {
      "text/html": [
       "<div>\n",
       "<style scoped>\n",
       "    .dataframe tbody tr th:only-of-type {\n",
       "        vertical-align: middle;\n",
       "    }\n",
       "\n",
       "    .dataframe tbody tr th {\n",
       "        vertical-align: top;\n",
       "    }\n",
       "\n",
       "    .dataframe thead th {\n",
       "        text-align: right;\n",
       "    }\n",
       "</style>\n",
       "<table border=\"1\" class=\"dataframe\">\n",
       "  <thead>\n",
       "    <tr style=\"text-align: right;\">\n",
       "      <th></th>\n",
       "      <th>variable</th>\n",
       "      <th>null count</th>\n",
       "      <th>null percentage</th>\n",
       "    </tr>\n",
       "  </thead>\n",
       "  <tbody>\n",
       "    <tr>\n",
       "      <th>0</th>\n",
       "      <td>lpep_pickup_datetime</td>\n",
       "      <td>0</td>\n",
       "      <td>0.000000</td>\n",
       "    </tr>\n",
       "    <tr>\n",
       "      <th>1</th>\n",
       "      <td>lpep_dropoff_datetime</td>\n",
       "      <td>0</td>\n",
       "      <td>0.000000</td>\n",
       "    </tr>\n",
       "    <tr>\n",
       "      <th>2</th>\n",
       "      <td>store_and_fwd_flag</td>\n",
       "      <td>4166</td>\n",
       "      <td>1.983810</td>\n",
       "    </tr>\n",
       "    <tr>\n",
       "      <th>3</th>\n",
       "      <td>RatecodeID</td>\n",
       "      <td>4166</td>\n",
       "      <td>1.983810</td>\n",
       "    </tr>\n",
       "    <tr>\n",
       "      <th>4</th>\n",
       "      <td>PULocationID</td>\n",
       "      <td>0</td>\n",
       "      <td>0.000000</td>\n",
       "    </tr>\n",
       "    <tr>\n",
       "      <th>5</th>\n",
       "      <td>DOLocationID</td>\n",
       "      <td>0</td>\n",
       "      <td>0.000000</td>\n",
       "    </tr>\n",
       "    <tr>\n",
       "      <th>6</th>\n",
       "      <td>trip_distance</td>\n",
       "      <td>0</td>\n",
       "      <td>0.000000</td>\n",
       "    </tr>\n",
       "    <tr>\n",
       "      <th>7</th>\n",
       "      <td>fare_amount</td>\n",
       "      <td>0</td>\n",
       "      <td>0.000000</td>\n",
       "    </tr>\n",
       "    <tr>\n",
       "      <th>8</th>\n",
       "      <td>total_amount</td>\n",
       "      <td>0</td>\n",
       "      <td>0.000000</td>\n",
       "    </tr>\n",
       "    <tr>\n",
       "      <th>9</th>\n",
       "      <td>trip_type</td>\n",
       "      <td>4176</td>\n",
       "      <td>1.988571</td>\n",
       "    </tr>\n",
       "    <tr>\n",
       "      <th>10</th>\n",
       "      <td>congestion_surcharge</td>\n",
       "      <td>4166</td>\n",
       "      <td>1.983810</td>\n",
       "    </tr>\n",
       "    <tr>\n",
       "      <th>11</th>\n",
       "      <td>Time_duration</td>\n",
       "      <td>0</td>\n",
       "      <td>0.000000</td>\n",
       "    </tr>\n",
       "    <tr>\n",
       "      <th>12</th>\n",
       "      <td>pickup_day</td>\n",
       "      <td>0</td>\n",
       "      <td>0.000000</td>\n",
       "    </tr>\n",
       "    <tr>\n",
       "      <th>13</th>\n",
       "      <td>dropoff_day</td>\n",
       "      <td>0</td>\n",
       "      <td>0.000000</td>\n",
       "    </tr>\n",
       "    <tr>\n",
       "      <th>14</th>\n",
       "      <td>PUHour</td>\n",
       "      <td>0</td>\n",
       "      <td>0.000000</td>\n",
       "    </tr>\n",
       "    <tr>\n",
       "      <th>15</th>\n",
       "      <td>DayType</td>\n",
       "      <td>0</td>\n",
       "      <td>0.000000</td>\n",
       "    </tr>\n",
       "    <tr>\n",
       "      <th>16</th>\n",
       "      <td>RushHour</td>\n",
       "      <td>0</td>\n",
       "      <td>0.000000</td>\n",
       "    </tr>\n",
       "    <tr>\n",
       "      <th>17</th>\n",
       "      <td>PUZone</td>\n",
       "      <td>0</td>\n",
       "      <td>0.000000</td>\n",
       "    </tr>\n",
       "    <tr>\n",
       "      <th>18</th>\n",
       "      <td>DOZone</td>\n",
       "      <td>0</td>\n",
       "      <td>0.000000</td>\n",
       "    </tr>\n",
       "    <tr>\n",
       "      <th>19</th>\n",
       "      <td>PUBoroughZone</td>\n",
       "      <td>0</td>\n",
       "      <td>0.000000</td>\n",
       "    </tr>\n",
       "    <tr>\n",
       "      <th>20</th>\n",
       "      <td>DOBoroughZone</td>\n",
       "      <td>0</td>\n",
       "      <td>0.000000</td>\n",
       "    </tr>\n",
       "  </tbody>\n",
       "</table>\n",
       "</div>"
      ],
      "text/plain": [
       "                 variable  null count  null percentage\n",
       "0    lpep_pickup_datetime           0         0.000000\n",
       "1   lpep_dropoff_datetime           0         0.000000\n",
       "2      store_and_fwd_flag        4166         1.983810\n",
       "3              RatecodeID        4166         1.983810\n",
       "4            PULocationID           0         0.000000\n",
       "5            DOLocationID           0         0.000000\n",
       "6           trip_distance           0         0.000000\n",
       "7             fare_amount           0         0.000000\n",
       "8            total_amount           0         0.000000\n",
       "9               trip_type        4176         1.988571\n",
       "10   congestion_surcharge        4166         1.983810\n",
       "11          Time_duration           0         0.000000\n",
       "12             pickup_day           0         0.000000\n",
       "13            dropoff_day           0         0.000000\n",
       "14                 PUHour           0         0.000000\n",
       "15                DayType           0         0.000000\n",
       "16               RushHour           0         0.000000\n",
       "17                 PUZone           0         0.000000\n",
       "18                 DOZone           0         0.000000\n",
       "19          PUBoroughZone           0         0.000000\n",
       "20          DOBoroughZone           0         0.000000"
      ]
     },
     "execution_count": 551,
     "metadata": {},
     "output_type": "execute_result"
    }
   ],
   "source": [
    "# Calculate Null\n",
    "data_null = NY.isna().sum().reset_index().rename(columns={'index':'variable',0:'null count'})\n",
    "# Calculate Percentage Null\n",
    "data_null['null percentage'] = data_null['null count'].apply(lambda x: x/(len(data_null)*100))\n",
    "data_null"
   ]
  },
  {
   "cell_type": "markdown",
   "metadata": {},
   "source": [
    "Dari informasi diatas dapat di pahami bahwa terdapa nilai NaN pada colomnt store_and_fwd_flag, RatecodeID, trip_type, dan congestion_surcharge.\n",
    "pada keempat data tersebut terdapat pertimbangan yang di lakukan untuk menghapus kolomnya seperti sebagian berikut :\n",
    "1. store_and_fwd_flag (2.162% NaN):\n",
    "Kolom ini menunjukkan apakah data perjalanan disimpan sementara di memori sebelum dikirimkan. ada sekitar 2.16% nilainya kosong, kolom ini sebaiknya di hapus, di dataset kita memiliki PUZone dan DOZone, kita tidak dapat mengasumsikan jam dan tanggal trip tersebut sebaik real time atau bukan kecuali berada di lokasi unkonw di kolom PUZone dan DOZone. maka sebaiknya data ini di hapus karena dapat merubah peta lokasi dari daerah aman saja yang terverifikasi not real time data.\n",
    "\n",
    "2. RatecodeID (2.162% NaN):\n",
    "Kolom ini menunjukkan kode tarif perjalanan pada lokasi tujaun akhir tertentu (1,2,3,4,5,6) yang masing-masing memiliki tujuan tersendiri. Nilai NaN pada kolom ini dapat kita hapus karena alasan isi berisi ID code lokasi yang tidak dapat di asumsikan, meskipun begitu kita memiliki DOZone yang dapat di asumsikan dimana Drop Off tersebut dilakukan atau mengubah lokasi ini menjadi nilai 0. dengan kedua pertimbangan tersebut sebaiknya Colomnt ini di hapus karena jika lokasi DO ternyata Unknown maka dapat menjadi outlier dan merubah data lokasi di jam sibuk\n",
    "\n",
    "3. trip_type (2.167% NaN):\n",
    "Kolom ini menunjukkan jenis perjalanan dengan kode 1 = street-hall dan 2 = dispatch. Sama seperti RatecodeID, sebaiknya nilai in dihapus karena sulit mengasumsikan data nya, selain itu nantinya kita akan sulit dalam filtering data yang nantinya jika kita ingin apa tip tersebut street hall atau dispatch. selain itu kenapa di hapus karena sulit mengasumsikan tarif karena dispatch dapat diubah tarifnya sesuai dengan kesepakatan oleh supir meski tarif sudah otomatis tertera(seperti menggunakan taksi online)\n",
    "\n",
    "4. congestion_surcharge (2.162% NaN):\n",
    "data yang menunjukkan biaya tambahan akibat kemacetan sebenarnya dapat diganti nilai NaN dengan 0, jika masuk akal secara bisnis (misalnya, jika perjalanan tidak dikenakan biaya kemacetan). akan tetapi pada beberapa trip yang kita tidak dapat menyimpulakan apa lokasi tersebut apa macet atau tidak karena dapat mempengaruhi total tarif maka sebaiknya di drop.\n",
    "\n",
    "dapat di simpulkan bahwa keempat datar tersebut yang memiliki valeu NaN dapat di drop dengan pertimbagan di atas."
   ]
  },
  {
   "cell_type": "code",
   "execution_count": 552,
   "metadata": {},
   "outputs": [],
   "source": [
    "NY.dropna(subset=['store_and_fwd_flag'], inplace=True)"
   ]
  },
  {
   "cell_type": "code",
   "execution_count": 553,
   "metadata": {},
   "outputs": [
    {
     "data": {
      "text/plain": [
       "lpep_pickup_datetime     0\n",
       "lpep_dropoff_datetime    0\n",
       "store_and_fwd_flag       0\n",
       "RatecodeID               0\n",
       "PULocationID             0\n",
       "DOLocationID             0\n",
       "trip_distance            0\n",
       "fare_amount              0\n",
       "total_amount             0\n",
       "trip_type                0\n",
       "congestion_surcharge     0\n",
       "Time_duration            0\n",
       "pickup_day               0\n",
       "dropoff_day              0\n",
       "PUHour                   0\n",
       "DayType                  0\n",
       "RushHour                 0\n",
       "PUZone                   0\n",
       "DOZone                   0\n",
       "PUBoroughZone            0\n",
       "DOBoroughZone            0\n",
       "dtype: int64"
      ]
     },
     "execution_count": 553,
     "metadata": {},
     "output_type": "execute_result"
    }
   ],
   "source": [
    "NY.dropna(subset=['trip_type'], inplace=True)\n",
    "NY.isna().sum()"
   ]
  },
  {
   "cell_type": "markdown",
   "metadata": {},
   "source": [
    "**3) Handling Outlier**\n",
    "- Menentukan teknik apa yang dapat di lakukan untuk membantu dalam manangani outlier pada kasus ini cukup tricky karena nilai outlier merupakan fenomena yang wajar yang terjadi dengan berbagai faktor seperti human error atau hilang sinyal. seperti yang kita lakukan tadi mengubah nilai minus yang mungkin terjadi karena salah input atau lokasi pick up dan drop off yang bernilai NaN yang diubah menjadi unknown yang dapat memberikan informasi untuk melakukan improvement. apa bisa outlier di hapus dapat menghilangkan informasi penting yang terjadi karena mungkin nilai outlier yang banyak.\n",
    "- kita dapat melakukan contoh pengecekan seperti berikut : "
   ]
  },
  {
   "cell_type": "code",
   "execution_count": 554,
   "metadata": {},
   "outputs": [
    {
     "name": "stdout",
     "output_type": "stream",
     "text": [
      "jumlah outlier: 1770\n",
      "Persentase outlier dalam data: 2.9229625959871193 %\n",
      "Outlier terbesar: 1571.97\n"
     ]
    }
   ],
   "source": [
    "# outlier pada PU date time\n",
    "Q1 = NY['trip_distance'].describe()['25%']\n",
    "Q3 = NY['trip_distance'].describe()['75%']\n",
    "IQR = Q3-Q1\n",
    "\n",
    "lower = Q1 - (3*IQR)\n",
    "upper = Q3 + (3*IQR)\n",
    "outlier = NY[(NY['trip_distance'] < lower) | (NY['trip_distance'] > upper)][['trip_distance']]\n",
    "outlier_terbesar = outlier['trip_distance'].max() \n",
    "print('jumlah outlier:', len(outlier))\n",
    "print('Persentase outlier dalam data:', len(outlier)/NY.shape[0]*100, '%')\n",
    "print('Outlier terbesar:', outlier_terbesar) "
   ]
  },
  {
   "cell_type": "markdown",
   "metadata": {},
   "source": [
    "setelah di lakukan pengecekan outlier hanya terjadi pada upper yang memiliki 1 nilai paling besar yang tidak masuk akal hal tersebut dapat kita take out"
   ]
  },
  {
   "cell_type": "code",
   "execution_count": 555,
   "metadata": {},
   "outputs": [],
   "source": [
    "# Menghapus baris yang termasuk outlier\n",
    "NY = NY[(NY['trip_distance'] <= upper)]"
   ]
  },
  {
   "cell_type": "markdown",
   "metadata": {},
   "source": [
    "- pada 'trip_distance' hanya satu yang tidak masuk akal, setelahnya yang tertinggi hanya 66 mils jadi tidak perlu di hapus"
   ]
  },
  {
   "cell_type": "code",
   "execution_count": 556,
   "metadata": {},
   "outputs": [
    {
     "name": "stdout",
     "output_type": "stream",
     "text": [
      "jumlah outlier: 2297\n",
      "Persentase outlier dalam data: 3.907459385897763 %\n",
      "Outlier terbesar: 456.0\n"
     ]
    }
   ],
   "source": [
    "# outlier pada pendapatan (numerik)\n",
    "Q1 = NY['total_amount'].describe()['25%']\n",
    "Q3 = NY['total_amount'].describe()['75%']\n",
    "IQR = Q3-Q1\n",
    "\n",
    "lower = Q1 - (1.5*IQR)\n",
    "upper = Q3 + (1.5*IQR)\n",
    "outlier = NY[(NY['total_amount'] < lower) | (NY['total_amount'] > upper)][['total_amount']]\n",
    "outlier_terbesar = outlier['total_amount'].max() \n",
    "print('jumlah outlier:', len(outlier))\n",
    "print('Persentase outlier dalam data:', len(outlier)/NY.shape[0]*100, '%')\n",
    "print('Outlier terbesar:', outlier_terbesar) "
   ]
  },
  {
   "cell_type": "code",
   "execution_count": 557,
   "metadata": {},
   "outputs": [
    {
     "name": "stdout",
     "output_type": "stream",
     "text": [
      "jumlah outlier: 3158\n",
      "Persentase outlier dalam data: 5.372118737773241 %\n",
      "Outlier terbesar: 455.0\n"
     ]
    }
   ],
   "source": [
    "# outlier Extream pada pendapatan (numerik)\n",
    "Q1 = NY['fare_amount'].describe()['25%']\n",
    "Q3 = NY['fare_amount'].describe()['75%']\n",
    "IQR = Q3-Q1\n",
    "\n",
    "lower = Q1 - (1.5*IQR)\n",
    "upper = Q3 + (1.5*IQR)\n",
    "outlier = NY[(NY['fare_amount'] < lower) | (NY['fare_amount'] > upper)][['fare_amount']]\n",
    "outlier_terbesar = outlier['fare_amount'].max() \n",
    "print('jumlah outlier:', len(outlier))\n",
    "print('Persentase outlier dalam data:', len(outlier)/NY.shape[0]*100, '%')\n",
    "print('Outlier terbesar:', outlier_terbesar) "
   ]
  },
  {
   "cell_type": "code",
   "execution_count": 558,
   "metadata": {},
   "outputs": [
    {
     "name": "stdout",
     "output_type": "stream",
     "text": [
      "jumlah outlier: 2399\n",
      "Persentase outlier dalam data: 4.080973037339457 %\n",
      "Outlier terbesar: 1438.9333333333334\n"
     ]
    }
   ],
   "source": [
    "# outlier Extream pada pendapatan (numerik)\n",
    "Q1 = NY['Time_duration'].describe()['25%']\n",
    "Q3 = NY['Time_duration'].describe()['75%']\n",
    "IQR = Q3-Q1\n",
    "\n",
    "lower = Q1 - (1.5*IQR)\n",
    "upper = Q3 + (1.5*IQR)\n",
    "outlier = NY[(NY['Time_duration'] < lower) | (NY['Time_duration'] > upper)][['Time_duration']]\n",
    "outlier_terbesar = outlier['Time_duration'].max() \n",
    "print('jumlah outlier:', len(outlier))\n",
    "print('Persentase outlier dalam data:', len(outlier)/NY.shape[0]*100, '%')\n",
    "print('Outlier terbesar:', outlier_terbesar) "
   ]
  },
  {
   "cell_type": "markdown",
   "metadata": {},
   "source": [
    "- pada outlier lain tidak di hapus karena tidak mempengaruhi tujuan analisis karena analisi yang bofokus pada lokasi dan jam\n",
    "- time duration dihapus karena ada regresi dan penilaian yang di ambil pada grafik tersebut"
   ]
  },
  {
   "cell_type": "code",
   "execution_count": 559,
   "metadata": {},
   "outputs": [
    {
     "name": "stdout",
     "output_type": "stream",
     "text": [
      "Data setelah menghapus outlier:\n",
      "<class 'pandas.core.frame.DataFrame'>\n",
      "Index: 56386 entries, 0 to 63886\n",
      "Data columns (total 21 columns):\n",
      " #   Column                 Non-Null Count  Dtype         \n",
      "---  ------                 --------------  -----         \n",
      " 0   lpep_pickup_datetime   56386 non-null  datetime64[ns]\n",
      " 1   lpep_dropoff_datetime  56386 non-null  datetime64[ns]\n",
      " 2   store_and_fwd_flag     56386 non-null  object        \n",
      " 3   RatecodeID             56386 non-null  object        \n",
      " 4   PULocationID           56386 non-null  object        \n",
      " 5   DOLocationID           56386 non-null  object        \n",
      " 6   trip_distance          56386 non-null  float64       \n",
      " 7   fare_amount            56386 non-null  float64       \n",
      " 8   total_amount           56386 non-null  float64       \n",
      " 9   trip_type              56386 non-null  object        \n",
      " 10  congestion_surcharge   56386 non-null  float64       \n",
      " 11  Time_duration          56386 non-null  float64       \n",
      " 12  pickup_day             56386 non-null  object        \n",
      " 13  dropoff_day            56386 non-null  object        \n",
      " 14  PUHour                 56386 non-null  object        \n",
      " 15  DayType                56386 non-null  object        \n",
      " 16  RushHour               56386 non-null  object        \n",
      " 17  PUZone                 56386 non-null  object        \n",
      " 18  DOZone                 56386 non-null  object        \n",
      " 19  PUBoroughZone          56386 non-null  object        \n",
      " 20  DOBoroughZone          56386 non-null  object        \n",
      "dtypes: datetime64[ns](2), float64(5), object(14)\n",
      "memory usage: 9.5+ MB\n",
      "None\n"
     ]
    }
   ],
   "source": [
    "# Menghapus baris yang termasuk outlier\n",
    "NY = NY[(NY['Time_duration'] >= lower) & (NY['Time_duration'] <= upper)]\n",
    "\n",
    "# Menampilkan informasi dataset setelah penghapusan\n",
    "print('Data setelah menghapus outlier:')\n",
    "print(NY.info())"
   ]
  },
  {
   "cell_type": "markdown",
   "metadata": {},
   "source": [
    "jika kita menghapus outlier pada  beberapa data dapat mempengaruhi informasi yang di dapat. selain itu isi outlier sperti contoh pada data total_amount mungkin terjadi karena beberapa kondisi seperti lokasi macet, pajank tambahan, jarak perjalanan yang jauh dan lain sebagainya. Oleh karena itu, outlier tidak akan dihapus. selain itu terdapat trip yang biaya yang tidak mengikuti argo seperti 5 = tarif yang dinegosiasikan dan 6 = perjalana grop"
   ]
  },
  {
   "cell_type": "markdown",
   "metadata": {},
   "source": [
    "**4) mengubah colomnt congestion_surcharge menjadi code**\n",
    "\n",
    "pada colomnt congestion_surcharge dapat membantu mengidentifikasi waktu dan lokasi di mana biaya tambahan kemacetan berlaku, yang biasanya mencerminkan jam sibuk, maka dengan itu kita dapat mengubah menjadi code dengan aturan jika value lebih dari 0 (Value > 0) maka dapat diasumsikan arah lokasi antara pickup dan dropoff rawan kemacetan."
   ]
  },
  {
   "cell_type": "code",
   "execution_count": 560,
   "metadata": {},
   "outputs": [
    {
     "data": {
      "text/html": [
       "<div>\n",
       "<style scoped>\n",
       "    .dataframe tbody tr th:only-of-type {\n",
       "        vertical-align: middle;\n",
       "    }\n",
       "\n",
       "    .dataframe tbody tr th {\n",
       "        vertical-align: top;\n",
       "    }\n",
       "\n",
       "    .dataframe thead th {\n",
       "        text-align: right;\n",
       "    }\n",
       "</style>\n",
       "<table border=\"1\" class=\"dataframe\">\n",
       "  <thead>\n",
       "    <tr style=\"text-align: right;\">\n",
       "      <th></th>\n",
       "      <th>lpep_pickup_datetime</th>\n",
       "      <th>lpep_dropoff_datetime</th>\n",
       "      <th>store_and_fwd_flag</th>\n",
       "      <th>RatecodeID</th>\n",
       "      <th>PULocationID</th>\n",
       "      <th>DOLocationID</th>\n",
       "      <th>trip_distance</th>\n",
       "      <th>fare_amount</th>\n",
       "      <th>total_amount</th>\n",
       "      <th>trip_type</th>\n",
       "      <th>congestion_surcharge</th>\n",
       "      <th>Time_duration</th>\n",
       "      <th>pickup_day</th>\n",
       "      <th>dropoff_day</th>\n",
       "      <th>PUHour</th>\n",
       "      <th>DayType</th>\n",
       "      <th>RushHour</th>\n",
       "      <th>PUZone</th>\n",
       "      <th>DOZone</th>\n",
       "      <th>PUBoroughZone</th>\n",
       "      <th>DOBoroughZone</th>\n",
       "      <th>traffic_congestion</th>\n",
       "    </tr>\n",
       "  </thead>\n",
       "  <tbody>\n",
       "    <tr>\n",
       "      <th>0</th>\n",
       "      <td>2023-01-01 00:26:10</td>\n",
       "      <td>2023-01-01 00:37:11</td>\n",
       "      <td>N</td>\n",
       "      <td>1.0</td>\n",
       "      <td>166</td>\n",
       "      <td>143</td>\n",
       "      <td>2.58</td>\n",
       "      <td>14.9</td>\n",
       "      <td>24.18</td>\n",
       "      <td>1.0</td>\n",
       "      <td>2.75</td>\n",
       "      <td>11.016667</td>\n",
       "      <td>Sunday</td>\n",
       "      <td>Sunday</td>\n",
       "      <td>0</td>\n",
       "      <td>H</td>\n",
       "      <td>NonRushHour</td>\n",
       "      <td>Morningside Heights</td>\n",
       "      <td>Lincoln Square West</td>\n",
       "      <td>Manhattan</td>\n",
       "      <td>Manhattan</td>\n",
       "      <td>Congested</td>\n",
       "    </tr>\n",
       "    <tr>\n",
       "      <th>1</th>\n",
       "      <td>2023-01-01 00:51:03</td>\n",
       "      <td>2023-01-01 00:57:49</td>\n",
       "      <td>N</td>\n",
       "      <td>1.0</td>\n",
       "      <td>24</td>\n",
       "      <td>43</td>\n",
       "      <td>1.81</td>\n",
       "      <td>10.7</td>\n",
       "      <td>15.84</td>\n",
       "      <td>1.0</td>\n",
       "      <td>0.00</td>\n",
       "      <td>6.766667</td>\n",
       "      <td>Sunday</td>\n",
       "      <td>Sunday</td>\n",
       "      <td>0</td>\n",
       "      <td>H</td>\n",
       "      <td>NonRushHour</td>\n",
       "      <td>Bloomingdale</td>\n",
       "      <td>Central Park</td>\n",
       "      <td>Manhattan</td>\n",
       "      <td>Manhattan</td>\n",
       "      <td>Not Congested</td>\n",
       "    </tr>\n",
       "    <tr>\n",
       "      <th>3</th>\n",
       "      <td>2023-01-01 00:13:14</td>\n",
       "      <td>2023-01-01 00:19:03</td>\n",
       "      <td>N</td>\n",
       "      <td>1.0</td>\n",
       "      <td>41</td>\n",
       "      <td>238</td>\n",
       "      <td>1.30</td>\n",
       "      <td>6.5</td>\n",
       "      <td>10.20</td>\n",
       "      <td>1.0</td>\n",
       "      <td>0.00</td>\n",
       "      <td>5.816667</td>\n",
       "      <td>Sunday</td>\n",
       "      <td>Sunday</td>\n",
       "      <td>0</td>\n",
       "      <td>H</td>\n",
       "      <td>NonRushHour</td>\n",
       "      <td>Central Harlem</td>\n",
       "      <td>Upper West Side North</td>\n",
       "      <td>Manhattan</td>\n",
       "      <td>Manhattan</td>\n",
       "      <td>Not Congested</td>\n",
       "    </tr>\n",
       "  </tbody>\n",
       "</table>\n",
       "</div>"
      ],
      "text/plain": [
       "  lpep_pickup_datetime lpep_dropoff_datetime store_and_fwd_flag RatecodeID PULocationID DOLocationID  trip_distance  fare_amount  total_amount trip_type  congestion_surcharge  Time_duration pickup_day dropoff_day PUHour DayType     RushHour               PUZone                 DOZone PUBoroughZone DOBoroughZone traffic_congestion\n",
       "0  2023-01-01 00:26:10   2023-01-01 00:37:11                  N        1.0          166          143           2.58         14.9         24.18       1.0                  2.75      11.016667     Sunday      Sunday      0       H  NonRushHour  Morningside Heights    Lincoln Square West     Manhattan     Manhattan          Congested\n",
       "1  2023-01-01 00:51:03   2023-01-01 00:57:49                  N        1.0           24           43           1.81         10.7         15.84       1.0                  0.00       6.766667     Sunday      Sunday      0       H  NonRushHour         Bloomingdale           Central Park     Manhattan     Manhattan      Not Congested\n",
       "3  2023-01-01 00:13:14   2023-01-01 00:19:03                  N        1.0           41          238           1.30          6.5         10.20       1.0                  0.00       5.816667     Sunday      Sunday      0       H  NonRushHour       Central Harlem  Upper West Side North     Manhattan     Manhattan      Not Congested"
      ]
     },
     "execution_count": 560,
     "metadata": {},
     "output_type": "execute_result"
    }
   ],
   "source": [
    "NY['traffic_congestion'] = np.where(NY['congestion_surcharge'] > 0, 'Congested', 'Not Congested')\n",
    "NY.head(3\n",
    "        )"
   ]
  },
  {
   "cell_type": "code",
   "execution_count": 601,
   "metadata": {},
   "outputs": [
    {
     "data": {
      "text/html": [
       "<div>\n",
       "<style scoped>\n",
       "    .dataframe tbody tr th:only-of-type {\n",
       "        vertical-align: middle;\n",
       "    }\n",
       "\n",
       "    .dataframe tbody tr th {\n",
       "        vertical-align: top;\n",
       "    }\n",
       "\n",
       "    .dataframe thead th {\n",
       "        text-align: right;\n",
       "    }\n",
       "</style>\n",
       "<table border=\"1\" class=\"dataframe\">\n",
       "  <thead>\n",
       "    <tr style=\"text-align: right;\">\n",
       "      <th></th>\n",
       "      <th>lpep_pickup_datetime</th>\n",
       "      <th>lpep_dropoff_datetime</th>\n",
       "      <th>trip_distance</th>\n",
       "      <th>fare_amount</th>\n",
       "      <th>total_amount</th>\n",
       "      <th>congestion_surcharge</th>\n",
       "      <th>Time_duration</th>\n",
       "    </tr>\n",
       "  </thead>\n",
       "  <tbody>\n",
       "    <tr>\n",
       "      <th>count</th>\n",
       "      <td>56386</td>\n",
       "      <td>56386</td>\n",
       "      <td>56386.000000</td>\n",
       "      <td>56386.000000</td>\n",
       "      <td>56386.000000</td>\n",
       "      <td>56386.000000</td>\n",
       "      <td>56386.000000</td>\n",
       "    </tr>\n",
       "    <tr>\n",
       "      <th>mean</th>\n",
       "      <td>2023-01-16 22:30:40.322704128</td>\n",
       "      <td>2023-01-16 22:42:16.056485632</td>\n",
       "      <td>2.236584</td>\n",
       "      <td>13.878503</td>\n",
       "      <td>18.883131</td>\n",
       "      <td>0.731064</td>\n",
       "      <td>11.595563</td>\n",
       "    </tr>\n",
       "    <tr>\n",
       "      <th>min</th>\n",
       "      <td>2022-12-09 14:10:49</td>\n",
       "      <td>2022-12-09 14:22:26</td>\n",
       "      <td>0.010000</td>\n",
       "      <td>0.010000</td>\n",
       "      <td>1.010000</td>\n",
       "      <td>0.000000</td>\n",
       "      <td>0.016667</td>\n",
       "    </tr>\n",
       "    <tr>\n",
       "      <th>25%</th>\n",
       "      <td>2023-01-09 12:11:25.750000128</td>\n",
       "      <td>2023-01-09 12:28:39.249999872</td>\n",
       "      <td>1.160000</td>\n",
       "      <td>8.600000</td>\n",
       "      <td>12.480000</td>\n",
       "      <td>0.000000</td>\n",
       "      <td>7.016667</td>\n",
       "    </tr>\n",
       "    <tr>\n",
       "      <th>50%</th>\n",
       "      <td>2023-01-17 08:47:39.500000</td>\n",
       "      <td>2023-01-17 09:02:05</td>\n",
       "      <td>1.780000</td>\n",
       "      <td>12.100000</td>\n",
       "      <td>16.770000</td>\n",
       "      <td>0.000000</td>\n",
       "      <td>10.566667</td>\n",
       "    </tr>\n",
       "    <tr>\n",
       "      <th>75%</th>\n",
       "      <td>2023-01-24 16:11:00.249999872</td>\n",
       "      <td>2023-01-24 16:21:33.750000128</td>\n",
       "      <td>2.810000</td>\n",
       "      <td>17.000000</td>\n",
       "      <td>23.350000</td>\n",
       "      <td>2.750000</td>\n",
       "      <td>15.200000</td>\n",
       "    </tr>\n",
       "    <tr>\n",
       "      <th>max</th>\n",
       "      <td>2023-01-31 23:58:23</td>\n",
       "      <td>2023-02-01 00:07:16</td>\n",
       "      <td>9.040000</td>\n",
       "      <td>455.000000</td>\n",
       "      <td>456.000000</td>\n",
       "      <td>2.750000</td>\n",
       "      <td>29.433333</td>\n",
       "    </tr>\n",
       "    <tr>\n",
       "      <th>std</th>\n",
       "      <td>NaN</td>\n",
       "      <td>NaN</td>\n",
       "      <td>1.593842</td>\n",
       "      <td>7.903252</td>\n",
       "      <td>9.733317</td>\n",
       "      <td>1.214842</td>\n",
       "      <td>6.088681</td>\n",
       "    </tr>\n",
       "  </tbody>\n",
       "</table>\n",
       "</div>"
      ],
      "text/plain": [
       "                lpep_pickup_datetime          lpep_dropoff_datetime  trip_distance   fare_amount  total_amount  congestion_surcharge  Time_duration\n",
       "count                          56386                          56386   56386.000000  56386.000000  56386.000000          56386.000000   56386.000000\n",
       "mean   2023-01-16 22:30:40.322704128  2023-01-16 22:42:16.056485632       2.236584     13.878503     18.883131              0.731064      11.595563\n",
       "min              2022-12-09 14:10:49            2022-12-09 14:22:26       0.010000      0.010000      1.010000              0.000000       0.016667\n",
       "25%    2023-01-09 12:11:25.750000128  2023-01-09 12:28:39.249999872       1.160000      8.600000     12.480000              0.000000       7.016667\n",
       "50%       2023-01-17 08:47:39.500000            2023-01-17 09:02:05       1.780000     12.100000     16.770000              0.000000      10.566667\n",
       "75%    2023-01-24 16:11:00.249999872  2023-01-24 16:21:33.750000128       2.810000     17.000000     23.350000              2.750000      15.200000\n",
       "max              2023-01-31 23:58:23            2023-02-01 00:07:16       9.040000    455.000000    456.000000              2.750000      29.433333\n",
       "std                              NaN                            NaN       1.593842      7.903252      9.733317              1.214842       6.088681"
      ]
     },
     "execution_count": 601,
     "metadata": {},
     "output_type": "execute_result"
    }
   ],
   "source": [
    "NY.describe()"
   ]
  },
  {
   "cell_type": "code",
   "execution_count": 599,
   "metadata": {},
   "outputs": [
    {
     "data": {
      "text/html": [
       "<div>\n",
       "<style scoped>\n",
       "    .dataframe tbody tr th:only-of-type {\n",
       "        vertical-align: middle;\n",
       "    }\n",
       "\n",
       "    .dataframe tbody tr th {\n",
       "        vertical-align: top;\n",
       "    }\n",
       "\n",
       "    .dataframe thead th {\n",
       "        text-align: right;\n",
       "    }\n",
       "</style>\n",
       "<table border=\"1\" class=\"dataframe\">\n",
       "  <thead>\n",
       "    <tr style=\"text-align: right;\">\n",
       "      <th></th>\n",
       "      <th>store_and_fwd_flag</th>\n",
       "      <th>RatecodeID</th>\n",
       "      <th>PULocationID</th>\n",
       "      <th>DOLocationID</th>\n",
       "      <th>trip_type</th>\n",
       "      <th>pickup_day</th>\n",
       "      <th>dropoff_day</th>\n",
       "      <th>PUHour</th>\n",
       "      <th>DayType</th>\n",
       "      <th>RushHour</th>\n",
       "      <th>PUZone</th>\n",
       "      <th>DOZone</th>\n",
       "      <th>PUBoroughZone</th>\n",
       "      <th>DOBoroughZone</th>\n",
       "      <th>traffic_congestion</th>\n",
       "    </tr>\n",
       "  </thead>\n",
       "  <tbody>\n",
       "    <tr>\n",
       "      <th>count</th>\n",
       "      <td>56386</td>\n",
       "      <td>56386.0</td>\n",
       "      <td>56386</td>\n",
       "      <td>56386</td>\n",
       "      <td>56386.0</td>\n",
       "      <td>56386</td>\n",
       "      <td>56386</td>\n",
       "      <td>56386</td>\n",
       "      <td>56386</td>\n",
       "      <td>56386</td>\n",
       "      <td>56386</td>\n",
       "      <td>56386</td>\n",
       "      <td>56386</td>\n",
       "      <td>56386</td>\n",
       "      <td>56386</td>\n",
       "    </tr>\n",
       "    <tr>\n",
       "      <th>unique</th>\n",
       "      <td>2</td>\n",
       "      <td>5.0</td>\n",
       "      <td>183</td>\n",
       "      <td>239</td>\n",
       "      <td>2.0</td>\n",
       "      <td>7</td>\n",
       "      <td>7</td>\n",
       "      <td>24</td>\n",
       "      <td>2</td>\n",
       "      <td>2</td>\n",
       "      <td>182</td>\n",
       "      <td>238</td>\n",
       "      <td>7</td>\n",
       "      <td>7</td>\n",
       "      <td>2</td>\n",
       "    </tr>\n",
       "    <tr>\n",
       "      <th>top</th>\n",
       "      <td>N</td>\n",
       "      <td>1.0</td>\n",
       "      <td>74</td>\n",
       "      <td>75</td>\n",
       "      <td>1.0</td>\n",
       "      <td>Tuesday</td>\n",
       "      <td>Tuesday</td>\n",
       "      <td>18</td>\n",
       "      <td>W</td>\n",
       "      <td>NonRushHour</td>\n",
       "      <td>East Harlem North</td>\n",
       "      <td>East Harlem South</td>\n",
       "      <td>Manhattan</td>\n",
       "      <td>Manhattan</td>\n",
       "      <td>Not Congested</td>\n",
       "    </tr>\n",
       "    <tr>\n",
       "      <th>freq</th>\n",
       "      <td>56150</td>\n",
       "      <td>55569.0</td>\n",
       "      <td>12407</td>\n",
       "      <td>3279</td>\n",
       "      <td>55696.0</td>\n",
       "      <td>9300</td>\n",
       "      <td>9294</td>\n",
       "      <td>4556</td>\n",
       "      <td>41147</td>\n",
       "      <td>41509</td>\n",
       "      <td>12407</td>\n",
       "      <td>3279</td>\n",
       "      <td>35056</td>\n",
       "      <td>34863</td>\n",
       "      <td>41395</td>\n",
       "    </tr>\n",
       "  </tbody>\n",
       "</table>\n",
       "</div>"
      ],
      "text/plain": [
       "       store_and_fwd_flag  RatecodeID  PULocationID  DOLocationID  trip_type pickup_day dropoff_day  PUHour DayType     RushHour             PUZone             DOZone PUBoroughZone DOBoroughZone traffic_congestion\n",
       "count               56386     56386.0         56386         56386    56386.0      56386       56386   56386   56386        56386              56386              56386         56386         56386              56386\n",
       "unique                  2         5.0           183           239        2.0          7           7      24       2            2                182                238             7             7                  2\n",
       "top                     N         1.0            74            75        1.0    Tuesday     Tuesday      18       W  NonRushHour  East Harlem North  East Harlem South     Manhattan     Manhattan      Not Congested\n",
       "freq                56150     55569.0         12407          3279    55696.0       9300        9294    4556   41147        41509              12407               3279         35056         34863              41395"
      ]
     },
     "execution_count": 599,
     "metadata": {},
     "output_type": "execute_result"
    }
   ],
   "source": [
    "NY.describe(include=object)"
   ]
  },
  {
   "cell_type": "markdown",
   "metadata": {},
   "source": [
    "**5) Final Dataset**"
   ]
  },
  {
   "cell_type": "markdown",
   "metadata": {},
   "source": [
    "**Rechek duplicate**"
   ]
  },
  {
   "cell_type": "code",
   "execution_count": 561,
   "metadata": {},
   "outputs": [
    {
     "name": "stdout",
     "output_type": "stream",
     "text": [
      "Jumlah data yang memiliki duplikasi pada dataset : 0\n"
     ]
    }
   ],
   "source": [
    "print('Jumlah data yang memiliki duplikasi pada dataset :',NY.duplicated().sum())"
   ]
  },
  {
   "cell_type": "markdown",
   "metadata": {},
   "source": [
    "**Rechek Null**"
   ]
  },
  {
   "cell_type": "code",
   "execution_count": 562,
   "metadata": {},
   "outputs": [
    {
     "data": {
      "text/html": [
       "<div>\n",
       "<style scoped>\n",
       "    .dataframe tbody tr th:only-of-type {\n",
       "        vertical-align: middle;\n",
       "    }\n",
       "\n",
       "    .dataframe tbody tr th {\n",
       "        vertical-align: top;\n",
       "    }\n",
       "\n",
       "    .dataframe thead th {\n",
       "        text-align: right;\n",
       "    }\n",
       "</style>\n",
       "<table border=\"1\" class=\"dataframe\">\n",
       "  <thead>\n",
       "    <tr style=\"text-align: right;\">\n",
       "      <th></th>\n",
       "      <th>variable</th>\n",
       "      <th>null count</th>\n",
       "      <th>null percentage</th>\n",
       "    </tr>\n",
       "  </thead>\n",
       "  <tbody>\n",
       "    <tr>\n",
       "      <th>0</th>\n",
       "      <td>lpep_pickup_datetime</td>\n",
       "      <td>0</td>\n",
       "      <td>0.0</td>\n",
       "    </tr>\n",
       "    <tr>\n",
       "      <th>1</th>\n",
       "      <td>lpep_dropoff_datetime</td>\n",
       "      <td>0</td>\n",
       "      <td>0.0</td>\n",
       "    </tr>\n",
       "    <tr>\n",
       "      <th>2</th>\n",
       "      <td>store_and_fwd_flag</td>\n",
       "      <td>0</td>\n",
       "      <td>0.0</td>\n",
       "    </tr>\n",
       "    <tr>\n",
       "      <th>3</th>\n",
       "      <td>RatecodeID</td>\n",
       "      <td>0</td>\n",
       "      <td>0.0</td>\n",
       "    </tr>\n",
       "    <tr>\n",
       "      <th>4</th>\n",
       "      <td>PULocationID</td>\n",
       "      <td>0</td>\n",
       "      <td>0.0</td>\n",
       "    </tr>\n",
       "    <tr>\n",
       "      <th>5</th>\n",
       "      <td>DOLocationID</td>\n",
       "      <td>0</td>\n",
       "      <td>0.0</td>\n",
       "    </tr>\n",
       "    <tr>\n",
       "      <th>6</th>\n",
       "      <td>trip_distance</td>\n",
       "      <td>0</td>\n",
       "      <td>0.0</td>\n",
       "    </tr>\n",
       "    <tr>\n",
       "      <th>7</th>\n",
       "      <td>fare_amount</td>\n",
       "      <td>0</td>\n",
       "      <td>0.0</td>\n",
       "    </tr>\n",
       "    <tr>\n",
       "      <th>8</th>\n",
       "      <td>total_amount</td>\n",
       "      <td>0</td>\n",
       "      <td>0.0</td>\n",
       "    </tr>\n",
       "    <tr>\n",
       "      <th>9</th>\n",
       "      <td>trip_type</td>\n",
       "      <td>0</td>\n",
       "      <td>0.0</td>\n",
       "    </tr>\n",
       "    <tr>\n",
       "      <th>10</th>\n",
       "      <td>congestion_surcharge</td>\n",
       "      <td>0</td>\n",
       "      <td>0.0</td>\n",
       "    </tr>\n",
       "    <tr>\n",
       "      <th>11</th>\n",
       "      <td>Time_duration</td>\n",
       "      <td>0</td>\n",
       "      <td>0.0</td>\n",
       "    </tr>\n",
       "    <tr>\n",
       "      <th>12</th>\n",
       "      <td>pickup_day</td>\n",
       "      <td>0</td>\n",
       "      <td>0.0</td>\n",
       "    </tr>\n",
       "    <tr>\n",
       "      <th>13</th>\n",
       "      <td>dropoff_day</td>\n",
       "      <td>0</td>\n",
       "      <td>0.0</td>\n",
       "    </tr>\n",
       "    <tr>\n",
       "      <th>14</th>\n",
       "      <td>PUHour</td>\n",
       "      <td>0</td>\n",
       "      <td>0.0</td>\n",
       "    </tr>\n",
       "    <tr>\n",
       "      <th>15</th>\n",
       "      <td>DayType</td>\n",
       "      <td>0</td>\n",
       "      <td>0.0</td>\n",
       "    </tr>\n",
       "    <tr>\n",
       "      <th>16</th>\n",
       "      <td>RushHour</td>\n",
       "      <td>0</td>\n",
       "      <td>0.0</td>\n",
       "    </tr>\n",
       "    <tr>\n",
       "      <th>17</th>\n",
       "      <td>PUZone</td>\n",
       "      <td>0</td>\n",
       "      <td>0.0</td>\n",
       "    </tr>\n",
       "    <tr>\n",
       "      <th>18</th>\n",
       "      <td>DOZone</td>\n",
       "      <td>0</td>\n",
       "      <td>0.0</td>\n",
       "    </tr>\n",
       "    <tr>\n",
       "      <th>19</th>\n",
       "      <td>PUBoroughZone</td>\n",
       "      <td>0</td>\n",
       "      <td>0.0</td>\n",
       "    </tr>\n",
       "    <tr>\n",
       "      <th>20</th>\n",
       "      <td>DOBoroughZone</td>\n",
       "      <td>0</td>\n",
       "      <td>0.0</td>\n",
       "    </tr>\n",
       "    <tr>\n",
       "      <th>21</th>\n",
       "      <td>traffic_congestion</td>\n",
       "      <td>0</td>\n",
       "      <td>0.0</td>\n",
       "    </tr>\n",
       "  </tbody>\n",
       "</table>\n",
       "</div>"
      ],
      "text/plain": [
       "                 variable  null count  null percentage\n",
       "0    lpep_pickup_datetime           0              0.0\n",
       "1   lpep_dropoff_datetime           0              0.0\n",
       "2      store_and_fwd_flag           0              0.0\n",
       "3              RatecodeID           0              0.0\n",
       "4            PULocationID           0              0.0\n",
       "5            DOLocationID           0              0.0\n",
       "6           trip_distance           0              0.0\n",
       "7             fare_amount           0              0.0\n",
       "8            total_amount           0              0.0\n",
       "9               trip_type           0              0.0\n",
       "10   congestion_surcharge           0              0.0\n",
       "11          Time_duration           0              0.0\n",
       "12             pickup_day           0              0.0\n",
       "13            dropoff_day           0              0.0\n",
       "14                 PUHour           0              0.0\n",
       "15                DayType           0              0.0\n",
       "16               RushHour           0              0.0\n",
       "17                 PUZone           0              0.0\n",
       "18                 DOZone           0              0.0\n",
       "19          PUBoroughZone           0              0.0\n",
       "20          DOBoroughZone           0              0.0\n",
       "21     traffic_congestion           0              0.0"
      ]
     },
     "execution_count": 562,
     "metadata": {},
     "output_type": "execute_result"
    }
   ],
   "source": [
    "data_null = NY.isna().sum().reset_index().rename(columns={'index':'variable',0:'null count'})\n",
    "data_null['null percentage'] = data_null['null count'].apply(lambda x: x/(len(data_null)*100))\n",
    "data_null"
   ]
  },
  {
   "cell_type": "markdown",
   "metadata": {},
   "source": [
    "**Rechek Kesesuaian Tipe Data**"
   ]
  },
  {
   "cell_type": "code",
   "execution_count": 563,
   "metadata": {},
   "outputs": [
    {
     "name": "stdout",
     "output_type": "stream",
     "text": [
      "<class 'pandas.core.frame.DataFrame'>\n",
      "Index: 56386 entries, 0 to 63886\n",
      "Data columns (total 22 columns):\n",
      " #   Column                 Non-Null Count  Dtype         \n",
      "---  ------                 --------------  -----         \n",
      " 0   lpep_pickup_datetime   56386 non-null  datetime64[ns]\n",
      " 1   lpep_dropoff_datetime  56386 non-null  datetime64[ns]\n",
      " 2   store_and_fwd_flag     56386 non-null  object        \n",
      " 3   RatecodeID             56386 non-null  object        \n",
      " 4   PULocationID           56386 non-null  object        \n",
      " 5   DOLocationID           56386 non-null  object        \n",
      " 6   trip_distance          56386 non-null  float64       \n",
      " 7   fare_amount            56386 non-null  float64       \n",
      " 8   total_amount           56386 non-null  float64       \n",
      " 9   trip_type              56386 non-null  object        \n",
      " 10  congestion_surcharge   56386 non-null  float64       \n",
      " 11  Time_duration          56386 non-null  float64       \n",
      " 12  pickup_day             56386 non-null  object        \n",
      " 13  dropoff_day            56386 non-null  object        \n",
      " 14  PUHour                 56386 non-null  object        \n",
      " 15  DayType                56386 non-null  object        \n",
      " 16  RushHour               56386 non-null  object        \n",
      " 17  PUZone                 56386 non-null  object        \n",
      " 18  DOZone                 56386 non-null  object        \n",
      " 19  PUBoroughZone          56386 non-null  object        \n",
      " 20  DOBoroughZone          56386 non-null  object        \n",
      " 21  traffic_congestion     56386 non-null  object        \n",
      "dtypes: datetime64[ns](2), float64(5), object(15)\n",
      "memory usage: 9.9+ MB\n"
     ]
    }
   ],
   "source": [
    "NY.info()"
   ]
  },
  {
   "cell_type": "markdown",
   "metadata": {},
   "source": [
    "**Exporting Final Dataset**"
   ]
  },
  {
   "cell_type": "code",
   "execution_count": 564,
   "metadata": {},
   "outputs": [],
   "source": [
    "NY.to_csv(\"NY TLC Clean FIX.csv\", index=False)"
   ]
  },
  {
   "cell_type": "markdown",
   "metadata": {},
   "source": [
    "# Goal\n",
    "\n",
    "**Sebagai data scientist di sebuah perusahaan taxi**, kita diminta untuk melakukan analisa di hari apakah, jam berapakah, dan tujuan lokasi manakah yang nantinya akan menjadi lokasi Pick Up tertinggi di jam \"sibu\" tersebut\n",
    "\n",
    "1. Analyize data:\n",
    "    - feature: `DayType & pickup_day`\n",
    "    - target: `PUHour & PUZone `\n",
    "2. Melakukan 'analisis Deskriptif' untuk menentukan lokasi dan jam sibuk\n",
    "    - Menentukan 10 lokasi terbanyak : PUZone \n",
    "    - Menentukan rata-rata jam Pick Up tersibuk : PUHour\n",
    "    - filter = DayType & pickup_day\n",
    "    - Dasboard tableau = tabel utama\n",
    "        - menampilkan jam sibuk di hari tertentu : PUHour, filter : DayType & pickup_day\n",
    "        - menampilkan 10 lokasi pickup teramai perjam : pickup_day & PUZone\n",
    "    - Dasboard tableau = Supporting tabel \n",
    "        - 10 lokasi termacet = DOZone & traffic_congestion\n",
    "        - Perbandingan jam sibuk di hari kerja dan libur = DayType & PUHour \n",
    "        - field map lokasi by hour = PUZone & PUHour\n"
   ]
  },
  {
   "cell_type": "code",
   "execution_count": 565,
   "metadata": {},
   "outputs": [],
   "source": [
    "import pandas as pd\n",
    "import numpy as np\n",
    "import matplotlib as plt\n",
    "import matplotlib.pyplot as plt\n",
    "import seaborn as sns"
   ]
  },
  {
   "cell_type": "markdown",
   "metadata": {},
   "source": [
    "#### **ANALYSIS AND VISUALISASI DATA**"
   ]
  },
  {
   "cell_type": "code",
   "execution_count": 566,
   "metadata": {},
   "outputs": [
    {
     "data": {
      "text/html": [
       "<div>\n",
       "<style scoped>\n",
       "    .dataframe tbody tr th:only-of-type {\n",
       "        vertical-align: middle;\n",
       "    }\n",
       "\n",
       "    .dataframe tbody tr th {\n",
       "        vertical-align: top;\n",
       "    }\n",
       "\n",
       "    .dataframe thead th {\n",
       "        text-align: right;\n",
       "    }\n",
       "</style>\n",
       "<table border=\"1\" class=\"dataframe\">\n",
       "  <thead>\n",
       "    <tr style=\"text-align: right;\">\n",
       "      <th></th>\n",
       "      <th>lpep_pickup_datetime</th>\n",
       "      <th>lpep_dropoff_datetime</th>\n",
       "      <th>store_and_fwd_flag</th>\n",
       "      <th>RatecodeID</th>\n",
       "      <th>PULocationID</th>\n",
       "      <th>DOLocationID</th>\n",
       "      <th>trip_distance</th>\n",
       "      <th>fare_amount</th>\n",
       "      <th>total_amount</th>\n",
       "      <th>trip_type</th>\n",
       "      <th>congestion_surcharge</th>\n",
       "      <th>Time_duration</th>\n",
       "      <th>pickup_day</th>\n",
       "      <th>dropoff_day</th>\n",
       "      <th>PUHour</th>\n",
       "      <th>DayType</th>\n",
       "      <th>RushHour</th>\n",
       "      <th>PUZone</th>\n",
       "      <th>DOZone</th>\n",
       "      <th>PUBoroughZone</th>\n",
       "      <th>DOBoroughZone</th>\n",
       "      <th>traffic_congestion</th>\n",
       "    </tr>\n",
       "  </thead>\n",
       "  <tbody>\n",
       "    <tr>\n",
       "      <th>0</th>\n",
       "      <td>2023-01-01 00:26:10</td>\n",
       "      <td>2023-01-01 00:37:11</td>\n",
       "      <td>N</td>\n",
       "      <td>1.0</td>\n",
       "      <td>166</td>\n",
       "      <td>143</td>\n",
       "      <td>2.58</td>\n",
       "      <td>14.9</td>\n",
       "      <td>24.18</td>\n",
       "      <td>1.0</td>\n",
       "      <td>2.75</td>\n",
       "      <td>11.016667</td>\n",
       "      <td>Sunday</td>\n",
       "      <td>Sunday</td>\n",
       "      <td>0</td>\n",
       "      <td>H</td>\n",
       "      <td>NonRushHour</td>\n",
       "      <td>Morningside Heights</td>\n",
       "      <td>Lincoln Square West</td>\n",
       "      <td>Manhattan</td>\n",
       "      <td>Manhattan</td>\n",
       "      <td>Congested</td>\n",
       "    </tr>\n",
       "  </tbody>\n",
       "</table>\n",
       "</div>"
      ],
      "text/plain": [
       "  lpep_pickup_datetime lpep_dropoff_datetime store_and_fwd_flag RatecodeID PULocationID DOLocationID  trip_distance  fare_amount  total_amount trip_type  congestion_surcharge  Time_duration pickup_day dropoff_day PUHour DayType     RushHour               PUZone               DOZone PUBoroughZone DOBoroughZone traffic_congestion\n",
       "0  2023-01-01 00:26:10   2023-01-01 00:37:11                  N        1.0          166          143           2.58         14.9         24.18       1.0                  2.75      11.016667     Sunday      Sunday      0       H  NonRushHour  Morningside Heights  Lincoln Square West     Manhattan     Manhattan          Congested"
      ]
     },
     "execution_count": 566,
     "metadata": {},
     "output_type": "execute_result"
    }
   ],
   "source": [
    "NY.head(1)"
   ]
  },
  {
   "cell_type": "markdown",
   "metadata": {},
   "source": [
    "## Deskriptif"
   ]
  },
  {
   "cell_type": "markdown",
   "metadata": {},
   "source": [
    "### Perbedaan Rush Hour dan tidak Rush Hour\n",
    "**Jumlah Rush Hour secara keseluruhan**\n",
    "\n",
    "dari 63877 perjalanan 16888 lokasi dimerupakan Rush Hour"
   ]
  },
  {
   "cell_type": "code",
   "execution_count": 567,
   "metadata": {},
   "outputs": [
    {
     "data": {
      "text/html": [
       "<div>\n",
       "<style scoped>\n",
       "    .dataframe tbody tr th:only-of-type {\n",
       "        vertical-align: middle;\n",
       "    }\n",
       "\n",
       "    .dataframe tbody tr th {\n",
       "        vertical-align: top;\n",
       "    }\n",
       "\n",
       "    .dataframe thead th {\n",
       "        text-align: right;\n",
       "    }\n",
       "</style>\n",
       "<table border=\"1\" class=\"dataframe\">\n",
       "  <thead>\n",
       "    <tr style=\"text-align: right;\">\n",
       "      <th></th>\n",
       "      <th>RushHour</th>\n",
       "    </tr>\n",
       "    <tr>\n",
       "      <th>RushHour</th>\n",
       "      <th></th>\n",
       "    </tr>\n",
       "  </thead>\n",
       "  <tbody>\n",
       "    <tr>\n",
       "      <th>NonRushHour</th>\n",
       "      <td>41509</td>\n",
       "    </tr>\n",
       "    <tr>\n",
       "      <th>RushHour</th>\n",
       "      <td>14877</td>\n",
       "    </tr>\n",
       "  </tbody>\n",
       "</table>\n",
       "</div>"
      ],
      "text/plain": [
       "             RushHour\n",
       "RushHour             \n",
       "NonRushHour     41509\n",
       "RushHour        14877"
      ]
     },
     "execution_count": 567,
     "metadata": {},
     "output_type": "execute_result"
    }
   ],
   "source": [
    "NY.groupby('RushHour')[['RushHour']].count()"
   ]
  },
  {
   "cell_type": "code",
   "execution_count": 590,
   "metadata": {},
   "outputs": [
    {
     "data": {
      "text/plain": [
       "Text(0.5, 1.0, 'Jumalah Perjalanan dalam Rush Hour')"
      ]
     },
     "execution_count": 590,
     "metadata": {},
     "output_type": "execute_result"
    },
    {
     "data": {
      "image/png": "[encoded data removed]",
      "text/plain": [
       "<Figure size 640x480 with 1 Axes>"
      ]
     },
     "metadata": {},
     "output_type": "display_data"
    }
   ],
   "source": [
    "# Perbandingan Rush Hour dan tidak Rush Hour\n",
    "sns.histplot(data=NY, x='RushHour', hue='RushHour', legend=None, shrink=0.9)\n",
    "plt.title('Jumalah Perjalanan dalam Rush Hour')"
   ]
  },
  {
   "cell_type": "markdown",
   "metadata": {},
   "source": [
    "10 lokasi pick up terbanyak : pada lokasi ini jika 1 jam sebelum rush hour maka kita dapat memberikan `diskon` untuk menuju penumpang yang menuju `lokasi pick up terbanyak`"
   ]
  },
  {
   "cell_type": "code",
   "execution_count": 569,
   "metadata": {},
   "outputs": [
    {
     "name": "stderr",
     "output_type": "stream",
     "text": [
      "C:\\Users\\muhta\\AppData\\Local\\Temp\\ipykernel_22272\\3530021553.py:4: FutureWarning: \n",
      "\n",
      "Passing `palette` without assigning `hue` is deprecated and will be removed in v0.14.0. Assign the `x` variable to `hue` and set `legend=False` for the same effect.\n",
      "\n",
      "  sns.barplot(x=pickup_counts.index[:10], y=pickup_counts.values[:10], palette='viridis')\n"
     ]
    },
    {
     "data": {
      "image/png": "[encoded data removed]",
      "text/plain": [
       "<Figure size 1200x600 with 1 Axes>"
      ]
     },
     "metadata": {},
     "output_type": "display_data"
    }
   ],
   "source": [
    "# Top 10 Lokasi Pickup Tersibuk\n",
    "pickup_counts = NY['PUZone'].value_counts()\n",
    "plt.figure(figsize=(12, 6))\n",
    "sns.barplot(x=pickup_counts.index[:10], y=pickup_counts.values[:10], palette='viridis')\n",
    "plt.title('Top 10 Pickup Locations',fontsize=16)\n",
    "plt.xlabel('Pickup Location',fontsize=12)\n",
    "plt.ylabel('Count',fontsize=12)\n",
    "plt.xticks(rotation=45, fontsize=10)\n",
    "plt.tight_layout()\n",
    "plt.show()\n"
   ]
  },
  {
   "cell_type": "markdown",
   "metadata": {},
   "source": [
    "Top 10 drop off teramai: saat rush hour 1 jika lokasi drop off penumpang menuju lokasi tersebut kita dapat memberikan `harga normal` sesuai jam sibuk"
   ]
  },
  {
   "cell_type": "code",
   "execution_count": 570,
   "metadata": {},
   "outputs": [
    {
     "data": {
      "image/png": "[encoded data removed]",
      "text/plain": [
       "<Figure size 1000x600 with 1 Axes>"
      ]
     },
     "metadata": {},
     "output_type": "display_data"
    }
   ],
   "source": [
    "# Top 10 Drop Off Tersibuk\n",
    "dropoff_counts_top = NY['DOZone'].value_counts().head(10)\n",
    "plt.figure(figsize=(10, 6))\n",
    "dropoff_counts_top.plot(kind='bar', color='steelblue')\n",
    "plt.title('Top 10 Lokasi Drop-Off Tersibuk', fontsize=16)\n",
    "plt.xlabel('Lokasi Drop-Off', fontsize=14)\n",
    "plt.ylabel('Jumlah Drop-Off', fontsize=14)\n",
    "plt.xticks(rotation=45)\n",
    "plt.tight_layout()\n",
    "plt.show()"
   ]
  },
  {
   "cell_type": "markdown",
   "metadata": {},
   "source": [
    "Top 10 lokasi tersepi: di saat rush hour jam jika penumpang menuju lokasi lokasi tersepi kita dapat memberikan `harga yang lebih mahal`, karena nantinya di lokasi tersebut dapat di asumsukan sulit mendapatkan penumpang kembali"
   ]
  },
  {
   "cell_type": "code",
   "execution_count": 571,
   "metadata": {},
   "outputs": [
    {
     "data": {
      "image/png": "[encoded data removed]",
      "text/plain": [
       "<Figure size 1000x600 with 1 Axes>"
      ]
     },
     "metadata": {},
     "output_type": "display_data"
    }
   ],
   "source": [
    "# Top 10 pickup tersepi\n",
    "pickup_counts_least = NY['PUZone'].value_counts().tail(10)\n",
    "plt.figure(figsize=(10, 6))\n",
    "pickup_counts_least.plot(kind='bar', color='lightcoral')\n",
    "plt.title('Top 10 Lokasi Pickup Tersepi', fontsize=16)\n",
    "plt.xlabel('Lokasi Pickup', fontsize=14)\n",
    "plt.ylabel('Jumlah Pickup', fontsize=14)\n",
    "plt.xticks(rotation=45)\n",
    "plt.tight_layout()\n",
    "plt.show()"
   ]
  },
  {
   "cell_type": "markdown",
   "metadata": {},
   "source": [
    "Top 10 lokasi dropof tersepi: penumpang yang bertujuan di lokasi drop off di 2 jam sebelum rush hour dapat di berikan harga normal, akan tetapi bila penumpang dengan tujuan di bawah berangkan 1 jam hingga rush hour di mulai maka akan di berikan harga yang lebih mahal."
   ]
  },
  {
   "cell_type": "code",
   "execution_count": 572,
   "metadata": {},
   "outputs": [
    {
     "data": {
      "image/png": "[encoded data removed]",
      "text/plain": [
       "<Figure size 1000x600 with 1 Axes>"
      ]
     },
     "metadata": {},
     "output_type": "display_data"
    }
   ],
   "source": [
    "# Top 10 Lokasi Drop Off tersepi : kita bisa membuat harga lebih mahal jika di turunkan pada lokasi tersebut\n",
    "dropoff_counts_bottom = NY['DOZone'].value_counts(ascending=True).head(10)  \n",
    "plt.figure(figsize=(10, 6))\n",
    "dropoff_counts_bottom.plot(kind='bar', color='salmon')\n",
    "plt.title('Top 10 Lokasi Drop-Off Tersepi', fontsize=16)\n",
    "plt.xlabel('Lokasi Drop-Off', fontsize=14)\n",
    "plt.ylabel('Jumlah Drop-Off', fontsize=14)\n",
    "plt.xticks(rotation=45)\n",
    "plt.tight_layout()\n",
    "plt.show()"
   ]
  },
  {
   "cell_type": "markdown",
   "metadata": {},
   "source": [
    "#### **Perbandingan  Interaksi setiap perjalanan (trip_distance, fare_amount, total_amount,Time_duration)**\n",
    "Pada pengujian mari kita uji normalitas 5 variabel numerikal terlebih dahulu, untuk mengetahui apakah persebaran data terdistibusi atau tidak, sehingga dapat menentukan sebaiknya data menggunakan mean/median, Uji normalitas yang di gunakan adalah D'agustion dan Pearson karena hasil pengujian lebih akurat dibandingkan shapiro wilk jika data >5000."
   ]
  },
  {
   "cell_type": "code",
   "execution_count": 573,
   "metadata": {},
   "outputs": [
    {
     "data": {
      "image/png": "[encoded data removed]",
      "text/plain": [
       "<Figure size 640x480 with 1 Axes>"
      ]
     },
     "metadata": {},
     "output_type": "display_data"
    }
   ],
   "source": [
    "sns.boxplot(data = NY, x = 'trip_distance')\n",
    "plt.title('Trip Distance Data Distribution',size=18)\n",
    "plt.show()"
   ]
  },
  {
   "cell_type": "code",
   "execution_count": 575,
   "metadata": {},
   "outputs": [
    {
     "data": {
      "image/png": "[encoded data removed]",
      "text/plain": [
       "<Figure size 640x480 with 1 Axes>"
      ]
     },
     "metadata": {},
     "output_type": "display_data"
    }
   ],
   "source": [
    "sns.boxplot(data = NY, x = 'fare_amount')\n",
    "plt.title('fare amount Data Distribution',size=18)\n",
    "plt.show()"
   ]
  },
  {
   "cell_type": "code",
   "execution_count": 577,
   "metadata": {},
   "outputs": [
    {
     "data": {
      "image/png": "[encoded data removed]",
      "text/plain": [
       "<Figure size 640x480 with 1 Axes>"
      ]
     },
     "metadata": {},
     "output_type": "display_data"
    }
   ],
   "source": [
    "sns.boxplot(data = NY, x = 'total_amount')\n",
    "plt.title('total amount Data Distribution',size=18)\n",
    "plt.show()"
   ]
  },
  {
   "cell_type": "code",
   "execution_count": 578,
   "metadata": {},
   "outputs": [
    {
     "data": {
      "image/png": "[encoded data removed]",
      "text/plain": [
       "<Figure size 640x480 with 1 Axes>"
      ]
     },
     "metadata": {},
     "output_type": "display_data"
    }
   ],
   "source": [
    "sns.boxplot(data = NY, x = 'Time_duration')\n",
    "plt.title('Time duration Data Distribution',size=18)\n",
    "plt.show()"
   ]
  },
  {
   "cell_type": "markdown",
   "metadata": {},
   "source": [
    "pada data yang di take out :\n",
    "1. trip distance terdapat trip yang menunjukan perjalanan terdapat 1 perjalaan yang jaraknya tidak masuk akal hal tersebut dapat mempengaruhi perhitungan senggi di lakukan take out pada nilai upper saja yang perjalannya 1571.97 mil atau 2528 km\n",
    "2. time duration terdapat out lier dengan perjalanan 0 menit dan 24 jam hal tersebut tidak dapat di jelaskan karena saat pengecekankeseluruhan data tidak sesuai"
   ]
  },
  {
   "cell_type": "code",
   "execution_count": 586,
   "metadata": {},
   "outputs": [
    {
     "data": {
      "image/png": "[encoded data removed]",
      "text/plain": [
       "<Figure size 800x600 with 2 Axes>"
      ]
     },
     "metadata": {},
     "output_type": "display_data"
    }
   ],
   "source": [
    "numerical_cols = ['fare_amount', 'total_amount', 'Time_duration','trip_distance']\n",
    "NY[numerical_cols] = NY[numerical_cols].apply(pd.to_numeric, errors='coerce')\n",
    "# Hitung korelasi dengan metode Spearman\n",
    "correlation = NY[numerical_cols].corr(method='spearman')\n",
    "\n",
    "# Visualisasi korelasi dengan heatmap\n",
    "plt.figure(figsize=(8, 6))\n",
    "sns.heatmap(correlation, annot=True, cmap='coolwarm', fmt='.2f')\n",
    "plt.title('Korelasi (Spearman) antara Kolom Numerikal')\n",
    "plt.show()"
   ]
  },
  {
   "cell_type": "code",
   "execution_count": 582,
   "metadata": {},
   "outputs": [
    {
     "name": "stderr",
     "output_type": "stream",
     "text": [
      "C:\\Users\\muhta\\AppData\\Local\\Temp\\ipykernel_22272\\3902380845.py:6: FutureWarning: \n",
      "\n",
      "Passing `palette` without assigning `hue` is deprecated and will be removed in v0.14.0. Assign the `x` variable to `hue` and set `legend=False` for the same effect.\n",
      "\n",
      "  sns.barplot(x=hourly_revenue.index, y=hourly_revenue.values, palette='viridis')\n"
     ]
    },
    {
     "data": {
      "image/png": "[encoded data removed]",
      "text/plain": [
       "<Figure size 1000x600 with 1 Axes>"
      ]
     },
     "metadata": {},
     "output_type": "display_data"
    }
   ],
   "source": [
    "# Hitung pendapatan rata-rata per jam\n",
    "hourly_revenue = NY.groupby('PUHour')['total_amount'].mean()\n",
    "\n",
    "# Bar Chart\n",
    "plt.figure(figsize=(10, 6))\n",
    "sns.barplot(x=hourly_revenue.index, y=hourly_revenue.values, palette='viridis')\n",
    "plt.title('Pendapatan Rata-rata per Jam')\n",
    "plt.xlabel('Jam (PUHour)')\n",
    "plt.ylabel('Rata-rata Pendapatan ($)')\n",
    "plt.xticks(range(0, 24))\n",
    "plt.grid()\n",
    "plt.show()\n"
   ]
  },
  {
   "cell_type": "code",
   "execution_count": 587,
   "metadata": {},
   "outputs": [
    {
     "data": {
      "image/png": "[encoded data removed]",
      "text/plain": [
       "<Figure size 640x480 with 1 Axes>"
      ]
     },
     "metadata": {},
     "output_type": "display_data"
    }
   ],
   "source": [
    "sns.scatterplot(NY, x = 'fare_amount', y = 'total_amount')\n",
    "plt.title('fare_amount VS total_amount')\n",
    "plt.xlabel('Fare amount ($)')\n",
    "plt.ylabel('Total Pendapatan ($)')\n",
    "plt.grid()\n",
    "plt.show()"
   ]
  },
  {
   "cell_type": "code",
   "execution_count": null,
   "metadata": {},
   "outputs": [
    {
     "data": {
      "image/png": "[encoded data removed]",
      "text/plain": [
       "<Figure size 800x800 with 1 Axes>"
      ]
     },
     "metadata": {},
     "output_type": "display_data"
    }
   ],
   "source": [
    "# Menghitung distribusi data berdasarkan traffic_congestion\n",
    "congestion_distribution = NY['traffic_congestion'].value_counts()\n",
    "# Visualisasi Pie Chart\n",
    "plt.figure(figsize=(8, 8))\n",
    "congestion_distribution.plot(kind='pie', autopct='%1.1f%%', startangle=90, cmap='viridis', legend=True)\n",
    "plt.title('Distribusi Kemacetan')\n",
    "plt.ylabel('')  # Menghilangkan label sumbu Y\n",
    "plt.show()\n",
    "\n"
   ]
  },
  {
   "cell_type": "code",
   "execution_count": 585,
   "metadata": {},
   "outputs": [
    {
     "data": {
      "text/html": [
       "<div>\n",
       "<style scoped>\n",
       "    .dataframe tbody tr th:only-of-type {\n",
       "        vertical-align: middle;\n",
       "    }\n",
       "\n",
       "    .dataframe tbody tr th {\n",
       "        vertical-align: top;\n",
       "    }\n",
       "\n",
       "    .dataframe thead th {\n",
       "        text-align: right;\n",
       "    }\n",
       "</style>\n",
       "<table border=\"1\" class=\"dataframe\">\n",
       "  <thead>\n",
       "    <tr style=\"text-align: right;\">\n",
       "      <th></th>\n",
       "      <th>lpep_pickup_datetime</th>\n",
       "      <th>lpep_dropoff_datetime</th>\n",
       "      <th>store_and_fwd_flag</th>\n",
       "      <th>RatecodeID</th>\n",
       "      <th>PULocationID</th>\n",
       "      <th>DOLocationID</th>\n",
       "      <th>trip_distance</th>\n",
       "      <th>fare_amount</th>\n",
       "      <th>total_amount</th>\n",
       "      <th>trip_type</th>\n",
       "      <th>congestion_surcharge</th>\n",
       "      <th>Time_duration</th>\n",
       "      <th>pickup_day</th>\n",
       "      <th>dropoff_day</th>\n",
       "      <th>PUHour</th>\n",
       "      <th>DayType</th>\n",
       "      <th>RushHour</th>\n",
       "      <th>PUZone</th>\n",
       "      <th>DOZone</th>\n",
       "      <th>PUBoroughZone</th>\n",
       "      <th>DOBoroughZone</th>\n",
       "      <th>traffic_congestion</th>\n",
       "    </tr>\n",
       "  </thead>\n",
       "  <tbody>\n",
       "    <tr>\n",
       "      <th>0</th>\n",
       "      <td>2023-01-01 00:26:10</td>\n",
       "      <td>2023-01-01 00:37:11</td>\n",
       "      <td>N</td>\n",
       "      <td>1.0</td>\n",
       "      <td>166</td>\n",
       "      <td>143</td>\n",
       "      <td>2.58</td>\n",
       "      <td>14.9</td>\n",
       "      <td>24.18</td>\n",
       "      <td>1.0</td>\n",
       "      <td>2.75</td>\n",
       "      <td>11.016667</td>\n",
       "      <td>Sunday</td>\n",
       "      <td>Sunday</td>\n",
       "      <td>0</td>\n",
       "      <td>H</td>\n",
       "      <td>NonRushHour</td>\n",
       "      <td>Morningside Heights</td>\n",
       "      <td>Lincoln Square West</td>\n",
       "      <td>Manhattan</td>\n",
       "      <td>Manhattan</td>\n",
       "      <td>Congested</td>\n",
       "    </tr>\n",
       "    <tr>\n",
       "      <th>1</th>\n",
       "      <td>2023-01-01 00:51:03</td>\n",
       "      <td>2023-01-01 00:57:49</td>\n",
       "      <td>N</td>\n",
       "      <td>1.0</td>\n",
       "      <td>24</td>\n",
       "      <td>43</td>\n",
       "      <td>1.81</td>\n",
       "      <td>10.7</td>\n",
       "      <td>15.84</td>\n",
       "      <td>1.0</td>\n",
       "      <td>0.00</td>\n",
       "      <td>6.766667</td>\n",
       "      <td>Sunday</td>\n",
       "      <td>Sunday</td>\n",
       "      <td>0</td>\n",
       "      <td>H</td>\n",
       "      <td>NonRushHour</td>\n",
       "      <td>Bloomingdale</td>\n",
       "      <td>Central Park</td>\n",
       "      <td>Manhattan</td>\n",
       "      <td>Manhattan</td>\n",
       "      <td>Not Congested</td>\n",
       "    </tr>\n",
       "    <tr>\n",
       "      <th>3</th>\n",
       "      <td>2023-01-01 00:13:14</td>\n",
       "      <td>2023-01-01 00:19:03</td>\n",
       "      <td>N</td>\n",
       "      <td>1.0</td>\n",
       "      <td>41</td>\n",
       "      <td>238</td>\n",
       "      <td>1.30</td>\n",
       "      <td>6.5</td>\n",
       "      <td>10.20</td>\n",
       "      <td>1.0</td>\n",
       "      <td>0.00</td>\n",
       "      <td>5.816667</td>\n",
       "      <td>Sunday</td>\n",
       "      <td>Sunday</td>\n",
       "      <td>0</td>\n",
       "      <td>H</td>\n",
       "      <td>NonRushHour</td>\n",
       "      <td>Central Harlem</td>\n",
       "      <td>Upper West Side North</td>\n",
       "      <td>Manhattan</td>\n",
       "      <td>Manhattan</td>\n",
       "      <td>Not Congested</td>\n",
       "    </tr>\n",
       "    <tr>\n",
       "      <th>4</th>\n",
       "      <td>2023-01-01 00:33:04</td>\n",
       "      <td>2023-01-01 00:39:02</td>\n",
       "      <td>N</td>\n",
       "      <td>1.0</td>\n",
       "      <td>41</td>\n",
       "      <td>74</td>\n",
       "      <td>1.10</td>\n",
       "      <td>6.0</td>\n",
       "      <td>8.00</td>\n",
       "      <td>1.0</td>\n",
       "      <td>0.00</td>\n",
       "      <td>5.966667</td>\n",
       "      <td>Sunday</td>\n",
       "      <td>Sunday</td>\n",
       "      <td>0</td>\n",
       "      <td>H</td>\n",
       "      <td>NonRushHour</td>\n",
       "      <td>Central Harlem</td>\n",
       "      <td>East Harlem North</td>\n",
       "      <td>Manhattan</td>\n",
       "      <td>Manhattan</td>\n",
       "      <td>Not Congested</td>\n",
       "    </tr>\n",
       "    <tr>\n",
       "      <th>5</th>\n",
       "      <td>2023-01-01 00:53:31</td>\n",
       "      <td>2023-01-01 01:11:04</td>\n",
       "      <td>N</td>\n",
       "      <td>1.0</td>\n",
       "      <td>41</td>\n",
       "      <td>262</td>\n",
       "      <td>2.78</td>\n",
       "      <td>17.7</td>\n",
       "      <td>22.95</td>\n",
       "      <td>1.0</td>\n",
       "      <td>2.75</td>\n",
       "      <td>17.550000</td>\n",
       "      <td>Sunday</td>\n",
       "      <td>Sunday</td>\n",
       "      <td>0</td>\n",
       "      <td>H</td>\n",
       "      <td>NonRushHour</td>\n",
       "      <td>Central Harlem</td>\n",
       "      <td>Yorkville East</td>\n",
       "      <td>Manhattan</td>\n",
       "      <td>Manhattan</td>\n",
       "      <td>Congested</td>\n",
       "    </tr>\n",
       "  </tbody>\n",
       "</table>\n",
       "</div>"
      ],
      "text/plain": [
       "  lpep_pickup_datetime lpep_dropoff_datetime store_and_fwd_flag RatecodeID PULocationID DOLocationID  trip_distance  fare_amount  total_amount trip_type  congestion_surcharge  Time_duration pickup_day dropoff_day PUHour DayType     RushHour               PUZone                 DOZone PUBoroughZone DOBoroughZone traffic_congestion\n",
       "0  2023-01-01 00:26:10   2023-01-01 00:37:11                  N        1.0          166          143           2.58         14.9         24.18       1.0                  2.75      11.016667     Sunday      Sunday      0       H  NonRushHour  Morningside Heights    Lincoln Square West     Manhattan     Manhattan          Congested\n",
       "1  2023-01-01 00:51:03   2023-01-01 00:57:49                  N        1.0           24           43           1.81         10.7         15.84       1.0                  0.00       6.766667     Sunday      Sunday      0       H  NonRushHour         Bloomingdale           Central Park     Manhattan     Manhattan      Not Congested\n",
       "3  2023-01-01 00:13:14   2023-01-01 00:19:03                  N        1.0           41          238           1.30          6.5         10.20       1.0                  0.00       5.816667     Sunday      Sunday      0       H  NonRushHour       Central Harlem  Upper West Side North     Manhattan     Manhattan      Not Congested\n",
       "4  2023-01-01 00:33:04   2023-01-01 00:39:02                  N        1.0           41           74           1.10          6.0          8.00       1.0                  0.00       5.966667     Sunday      Sunday      0       H  NonRushHour       Central Harlem      East Harlem North     Manhattan     Manhattan      Not Congested\n",
       "5  2023-01-01 00:53:31   2023-01-01 01:11:04                  N        1.0           41          262           2.78         17.7         22.95       1.0                  2.75      17.550000     Sunday      Sunday      0       H  NonRushHour       Central Harlem         Yorkville East     Manhattan     Manhattan          Congested"
      ]
     },
     "execution_count": 585,
     "metadata": {},
     "output_type": "execute_result"
    }
   ],
   "source": [
    "NY.head()\n"
   ]
  },
  {
   "cell_type": "markdown",
   "metadata": {},
   "source": [
    "## **Conckusion**\n",
    "- Pada Top 10 lokasi rata-rata pick up paling ramai kota New York adalah kita mengetahui bahwa East Harlem North & East Harlem South merupakan 2 lokasi pick up paling banyak yang memiliki perbedaan yang cukup jauh dengan lainnya.\n",
    "- East Harlem North & East Harlem South merupakan lokasi pick up dan drop off paling ramai karena dua lokasi tersebut masih ke dalam Top 10 teratas kelasifikasi tersebut. dapat di asumsikan bahwa lokasi tersebut merupakan lokasi sibuk\n",
    "- Rush hour atau jam sibuk di kategorikan berdasarkan banyaknya jam trip yang paling banyak di lakukan di jam 3 hingga jam 8\n",
    "- Rush Hour yang hanya memiliki 4 kategori mencerminkan bahwa trip di jam rush yang cukup banyak di angka 14000 sedangkan trip pada Non rush hour yang memiliki waktu 20 jam yang jika di kalkulasikan terdapat 5 kali lipat perbedaanya.\n",
    "- hubungan total_amount dengan ketiga fariable besar bisa di asumsikan jika jarak dan waktu tinggi maka akan mempengaruhi total amount dan fare amount\n"
   ]
  },
  {
   "cell_type": "markdown",
   "metadata": {},
   "source": [
    "## **Action Recommendation**\n",
    "Berdasarkan analisis data yang telah dilakukan, kami menyarankan beberapa langkah untuk meningkatkan efisiensi armada taksi dan memaksimalkan pendapatan:\n",
    "Fokus pada Lokasi Ramai:\n",
    "- Identifikasi Lokasi Strategis: Kita sudah menemukan beberapa lokasi di Manhattan, terutama East Harlem, yang sangat ramai permintaan taksinya.\n",
    "- Konsentrasi Armada: Sebaiknya kita kumpulkan lebih banyak taksi di lokasi-lokasi ramai ini, terutama saat jam sibuk.\n",
    "\n",
    "Manfaatkan Waktu Sebelum Jam Sibuk:\n",
    "- Promosi Menarik: Kita bisa menawarkan harga spesial atau promo menarik untuk penumpang yang ingin berangkat dari lokasi yang sepi menuju lokasi yang ramai, terutama satu jam sebelum jam sibuk dimulai.\n",
    "- Tujuan: Tujuannya adalah untuk mengisi waktu luang pengemudi sebelum mereka tiba di lokasi ramai, sehingga mereka siap melayani permintaan yang tinggi saat jam sibuk.\n",
    "\n",
    "Sesuaikan Harga:\n",
    "- Harga Fleksibel: Kita bisa menerapkan harga yang berbeda-beda tergantung pada lokasi penjemputan dan tujuan, serta waktu perjalanan.\n",
    "- Harga Khusus Jam Sibuk: Kita bisa menaikkan harga sedikit pada jam-jam sibuk untuk memanfaatkan permintaan yang tinggi.\n",
    "\n",
    "Evaluasi dan Penyesuaian:\n",
    "- Pantau Kinerja: Kita perlu terus memantau kinerja strategi ini dengan melihat data seperti jumlah penumpang, pendapatan, dan waktu tunggu.\n",
    "- Lakukan Penyesuaian: Jika ada perubahan dalam pola permintaan atau kondisi lalu lintas, kita perlu menyesuaikan strategi kita."
   ]
  }
 ],
 "metadata": {
  "kernelspec": {
   "display_name": "Python 3",
   "language": "python",
   "name": "python3"
  },
  "language_info": {
   "codemirror_mode": {
    "name": "ipython",
    "version": 3
   },
   "file_extension": ".py",
   "mimetype": "text/x-python",
   "name": "python",
   "nbconvert_exporter": "python",
   "pygments_lexer": "ipython3",
   "version": "3.13.0"
  }
 },
 "nbformat": 4,
 "nbformat_minor": 2
}
